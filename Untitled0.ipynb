{
  "nbformat": 4,
  "nbformat_minor": 0,
  "metadata": {
    "colab": {
      "name": "Untitled0.ipynb",
      "provenance": [],
      "authorship_tag": "ABX9TyNRnWVKc4xnM8Aco55xaF5V",
      "include_colab_link": true
    },
    "kernelspec": {
      "name": "python3",
      "display_name": "Python 3"
    },
    "accelerator": "GPU"
  },
  "cells": [
    {
      "cell_type": "markdown",
      "metadata": {
        "id": "view-in-github",
        "colab_type": "text"
      },
      "source": [
        "<a href=\"https://colab.research.google.com/github/Benkaera/TensorFlow-hehe/blob/main/Untitled0.ipynb\" target=\"_parent\"><img src=\"https://colab.research.google.com/assets/colab-badge.svg\" alt=\"Open In Colab\"/></a>"
      ]
    },
    {
      "cell_type": "code",
      "metadata": {
        "colab": {
          "base_uri": "https://localhost:8080/"
        },
        "id": "TxHIReoLa-e6",
        "outputId": "1c083375-7066-4b1a-c84e-012f0cb47653"
      },
      "source": [
        "%tensorflow_version 1.x\r\n",
        "!pip install gpt-2-simple\r\n",
        "import gpt_2_simple as gpt2"
      ],
      "execution_count": 2,
      "outputs": [
        {
          "output_type": "stream",
          "text": [
            "Requirement already satisfied: gpt-2-simple in /usr/local/lib/python3.6/dist-packages (0.7.1)\n",
            "Requirement already satisfied: toposort in /usr/local/lib/python3.6/dist-packages (from gpt-2-simple) (1.6)\n",
            "Requirement already satisfied: requests in /usr/local/lib/python3.6/dist-packages (from gpt-2-simple) (2.23.0)\n",
            "Requirement already satisfied: numpy in /usr/local/lib/python3.6/dist-packages (from gpt-2-simple) (1.19.5)\n",
            "Requirement already satisfied: tqdm in /usr/local/lib/python3.6/dist-packages (from gpt-2-simple) (4.41.1)\n",
            "Requirement already satisfied: regex in /usr/local/lib/python3.6/dist-packages (from gpt-2-simple) (2019.12.20)\n",
            "Requirement already satisfied: idna<3,>=2.5 in /usr/local/lib/python3.6/dist-packages (from requests->gpt-2-simple) (2.10)\n",
            "Requirement already satisfied: certifi>=2017.4.17 in /usr/local/lib/python3.6/dist-packages (from requests->gpt-2-simple) (2020.12.5)\n",
            "Requirement already satisfied: chardet<4,>=3.0.2 in /usr/local/lib/python3.6/dist-packages (from requests->gpt-2-simple) (3.0.4)\n",
            "Requirement already satisfied: urllib3!=1.25.0,!=1.25.1,<1.26,>=1.21.1 in /usr/local/lib/python3.6/dist-packages (from requests->gpt-2-simple) (1.24.3)\n",
            "WARNING:tensorflow:\n",
            "The TensorFlow contrib module will not be included in TensorFlow 2.0.\n",
            "For more information, please see:\n",
            "  * https://github.com/tensorflow/community/blob/master/rfcs/20180907-contrib-sunset.md\n",
            "  * https://github.com/tensorflow/addons\n",
            "  * https://github.com/tensorflow/io (for I/O related ops)\n",
            "If you depend on functionality not listed there, please file an issue.\n",
            "\n"
          ],
          "name": "stdout"
        }
      ]
    },
    {
      "cell_type": "code",
      "metadata": {
        "id": "Xt2R-JcVkzBO"
      },
      "source": [
        ""
      ],
      "execution_count": null,
      "outputs": []
    },
    {
      "cell_type": "code",
      "metadata": {
        "colab": {
          "base_uri": "https://localhost:8080/"
        },
        "id": "NslGD4v7jJRx",
        "outputId": "33ee6441-f658-4c35-9515-f46fd8d2b9ba"
      },
      "source": [
        "gpt2.download_gpt2(model_name=\"124M\")"
      ],
      "execution_count": 3,
      "outputs": [
        {
          "output_type": "stream",
          "text": [
            "Fetching checkpoint: 1.05Mit [00:00, 701Mit/s]                                                      \n",
            "Fetching encoder.json: 1.05Mit [00:00, 89.1Mit/s]                                                   \n",
            "Fetching hparams.json: 1.05Mit [00:00, 318Mit/s]                                                    \n",
            "Fetching model.ckpt.data-00000-of-00001: 498Mit [00:03, 138Mit/s]                                   \n",
            "Fetching model.ckpt.index: 1.05Mit [00:00, 327Mit/s]                                                \n",
            "Fetching model.ckpt.meta: 1.05Mit [00:00, 179Mit/s]                                                 \n",
            "Fetching vocab.bpe: 1.05Mit [00:00, 187Mit/s]                                                       \n"
          ],
          "name": "stderr"
        }
      ]
    },
    {
      "cell_type": "code",
      "metadata": {
        "id": "L_x9WCQVltDd"
      },
      "source": [
        "file_name = \"marvel.txt\""
      ],
      "execution_count": 4,
      "outputs": []
    },
    {
      "cell_type": "code",
      "metadata": {
        "colab": {
          "base_uri": "https://localhost:8080/"
        },
        "id": "n6NCTxRAmElm",
        "outputId": "d8c26401-b5eb-4e48-9fea-aaa8726d92d0"
      },
      "source": [
        "sess = gpt2.start_tf_sess()\r\n",
        "\r\n",
        "gpt2.finetune(sess,\r\n",
        "              dataset=file_name,\r\n",
        "              model_name='124M',\r\n",
        "              steps=200,\r\n",
        "              restore_from='fresh',\r\n",
        "              run_name='run1',\r\n",
        "              print_every=10,\r\n",
        "              sample_every=20,\r\n",
        "              save_every=20\r\n",
        ")"
      ],
      "execution_count": 5,
      "outputs": [
        {
          "output_type": "stream",
          "text": [
            "WARNING:tensorflow:From /usr/local/lib/python3.6/dist-packages/gpt_2_simple/src/sample.py:17: where (from tensorflow.python.ops.array_ops) is deprecated and will be removed in a future version.\n",
            "Instructions for updating:\n",
            "Use tf.where in 2.0, which has the same broadcast rule as np.where\n",
            "Loading checkpoint models/124M/model.ckpt\n",
            "INFO:tensorflow:Restoring parameters from models/124M/model.ckpt\n"
          ],
          "name": "stdout"
        },
        {
          "output_type": "stream",
          "text": [
            "100%|██████████| 1/1 [00:00<00:00, 352.94it/s]"
          ],
          "name": "stderr"
        },
        {
          "output_type": "stream",
          "text": [
            "Loading dataset...\n",
            "dataset has 8674 tokens\n",
            "Training...\n"
          ],
          "name": "stdout"
        },
        {
          "output_type": "stream",
          "text": [
            "\n"
          ],
          "name": "stderr"
        },
        {
          "output_type": "stream",
          "text": [
            "[10 | 28.55] loss=2.52 avg=2.52\n",
            "[20 | 50.79] loss=1.69 avg=2.10\n",
            "Saving checkpoint/run1/model-20\n",
            "======== SAMPLE 1 ========\n",
            " will of course become more and more common.\n",
            "We know that the Sakaar are under the control of Dormammu, now that they have defeated Hydra, they are looking to get back to Asgard, but they have to agree to a deal. Asgard gives them access to Dr. Sakaar, and he takes them to the facility to talk. We also know that the Sakaar used Doctor Strange to subdue Loki. The Sakaar don't like this and try to kill Thor by using Chitauri weapons. Thor kills the Sakaar.\n",
            "Thanatos is an unstable unstable being and is in the control of Thanos.\n",
            "\n",
            "\n",
            "Doctor Strange\n",
            "\n",
            "The episode The Light of Day, in which Thanos is defeated, is the final showdown between Odin and God. Odin has taken over the universe and has given the Earth to the One God (Thrall), and he plans on bringing about Ragnarok. In one of his visions, Odin enters Asgard for a fight, and kills Thanos.\n",
            "\n",
            "We also know Odin is under the control of the evil Grandmaster, Thanos, who plans to use every remaining ounce of his power to turn all of humanity against each other. The way the Sakaar kill each other, they get to know each other by heart. Many years later, Dr. Strange stops Thanos by chance by giving him a patch that contains a hidden piece of information.\n",
            "\n",
            "Sometime back, Loki, after a long absence, gets his hands on the Soul Stone. He is trying to take over the world and wants to kill everyone. But a team of scientists from Asgard (one of the founding members of the Avengers) have shown up in New York to take him on. Now, that was back in The Winter Soldier, but this movie sets up his plan.\n",
            "\n",
            "Norman Reedus, Ant-Man\n",
            "\n",
            "Doctor Strange brings about a new dawn for New York, where Dr. Robert S. Backus (Agent Phil Coulson) is being investigated by the Russian government after stealing more than 400,000 records from a Russian state-run database. The Russians are being secretly building a new sort of brainwashing agent called Backus to keep tabs on Hydra and keep tabs on Dr. Sakaar (he has a daughter). The Russians don't want anyone in America who believes they have found Dr. Backus to be lying and want the truth.\n",
            "\n",
            "\n",
            "Thor\n",
            "\n",
            "The final showdown between Odin and the Dark Lord takes place in Asgard. Because of a gamma drop, the universe is dark and unstable. This causes dark energy to be released and causes the universe to become unstable and unstable. Because of this, many gods place a sacrifice by hand around the world to protect the aged. Odin sacrifices himself to protect Dr. Sakaar (he is the head of Asgard, after all).\n",
            "\n",
            "\n",
            "Loki, Ant-Man\n",
            "\n",
            "Doctor Strange is the culmination of the films that have captured our attention over the years. For me, it is the film that feels the most important to fans of the previous films. In the first film, we get the film where Peter (Lars, also a former Avenger) goes undercover to blow the whistle about an event called the Gambit. This Gambit is about how the Avengers can stop Thanos using their super-powers in one fell swoop.\n",
            "\n",
            "\n",
            "Peter Parker and Bruce Banner are undercover in New York. They are secretly working with one another on a scheme to access the Eye Of Agamotto (The God Stone) in the Eye Of Earth-616. The idea is that Spider-Man (Sam Wilson) and his friends are going to invade Earth-616 to stop Thanos from using the Eye Of Agamotto.\n",
            "\n",
            "\n",
            "The Initiative\n",
            "\n",
            "The final showdown is between Captain America and the Winter Soldier, who are holding the Iron Man sign. Over the years, Iron Man has been given the power to use the Eye Of Agamotto once every 48 hours.\n",
            "\n",
            "We know Odin and Thor have plans to kill each other. But who knows? A powerful sorcerer called Odin has offered to lift the Iron Man sign and make all of the heroes of Asgard a part of his plan. Now, not everyone wants to see this happen, but for the people who don't want to see it, the sign is on the Dark Tower. We also know that Baron Wolfgang von Strucker has been giving instructions to the Guardians to kill each other. We also know that Loki has been giving instructions from within himself to the Asgardians to kill each other. The Avengers and the Wasp have finally reached an agreement. We also know that Thor, who appears in the film, and Dr. Strange and Loki are close.\n",
            "\n",
            "Agent Phil Coulson – Guardians\n",
            "\n",
            "Thanos is a powerful sorcerer.\n",
            "\n",
            "We also know that Thanos is holding up more powerful sorcerers because of his dark nature.\n",
            "\n",
            "Thanos is also the ruler of Vatn. Wanda is hoping that the prophecy of Scept\n",
            "\n",
            "[30 | 88.45] loss=0.93 avg=1.71\n",
            "[40 | 113.38] loss=0.40 avg=1.37\n",
            "Saving checkpoint/run1/model-40\n",
            "WARNING:tensorflow:From /tensorflow-1.15.2/python3.6/tensorflow_core/python/training/saver.py:963: remove_checkpoint (from tensorflow.python.training.checkpoint_management) is deprecated and will be removed in a future version.\n",
            "Instructions for updating:\n",
            "Use standard file APIs to delete files with this prefix.\n",
            "======== SAMPLE 1 ========\n",
            "auri\n",
            "\n",
            "Agent Phil Coulson (Sofo), has been hired to eliminate two terrorist cells in the U.S. He has also planted a seed in a river not far from where the Selomings are hiding out in the open.\n",
            "\n",
            "The terrorist cells eventually kill up to four of the Selomings and themselves become the Ant-Man and the Wasp. The Wasp is severely wounded and dies, while the Agent shoots an arrow through the heart of the terrorist cell. This awakens Loki who has been hibernating in the woods with the visions of Thor and Odin. Loki dies and Thor awakens Malekith, the ruler of Asgard, who has been brainwashed by Loki. Loki retrieves Malekith who is having aneurysma (no theeurysm is not an option for him) and prepares to commit suicide. Loki kills Malekith and gives Malekith a pacemaker so that he might get a better heart beating. The next day, Peter, Cap and Wanda are in the woods with Odin (Quentin). Odin tells them about a meteorite that has struck Norway a while back.\n",
            "\n",
            "Peter gets lost in the woods in the woods, sees a meteorite falling, realizes Quentin was right and throws himself over the edge. Odin falls into the ocean and kills the cat. The two of them form a family called the Brontës and grow to be half-Valkyrior and half-Spider-Sceptre. The Brontës become the Spider-Sceptre in 1995 and become the Multiversity in 903.\n",
            "\n",
            "Peter eventually joins forces with Cap with the Ant-Man team. The group fights Hydra and the Winter Soldier and defeats the Black Panther’s father, Tony, and cousin, Wanda. The remaining members of the Avengers join forces to stop Hydra and the Winter Soldier. To stop Hydra, the Avengers agree to a $25 million price tag.\n",
            "\n",
            "The Avengers retrieve the Sceptre, the hammer from Hydra, who had been brainwashing Peter, realize that Peter is Nowhere Man, and wage war on the world. Gamora and Nebula defeat the forces of the Skrulls (the ruling class of the Skrulls). The Skrulls try to capture Gamora but are stopped by the Avengers. The Avengers attack Gamora’s home. The Skrulls use the Sceptre to open fire on the Avengers. The Avengers defeat the Skrulls but are unable to kill them. The Sceptre falls into the river below. The Avengers keep searching for the source of the scepidot’s power.\n",
            "\n",
            "Agent Peter Coulson (Sofo), has been hired to lead an operation into the Slacktargets who are being kept in a dark cave north of New York City. The operation involves infiltrating a small group of robots and infiltrating their minds. The Secret Lab is abandoned and robots have been falling into disrepair for years. To keep up with the keepers of the secret labs, a terrorist enters the lab. The undercover operative, Nick Fury (Sam Wilson-Worner), finds Zero (Samuell Housley-Cobalt) in the lab. The terrorist hacks into the Sceptre to learn about the Skrulls plan to conquer the world. Fury kills the terrorist and abandons the Sceptre. The Skrulls put up a stony statue of Thanos (formerly the leader of the Skrulls) in the secret lab.\n",
            "\n",
            "The terrorist attacks a Grandmaster (Thane Vos) and his men who are undercover in Afghanistan. The Skrulls go to India to retrieve the Sceptre but are attacked. The terrorist attacks the Skrulls who provided the Sceptre—Thane—are killed. The Skrulls demand the Sceptre for themselves. The terrorist attacks the UN and the United Nations are holding a global day of action to end terrorist activities.\n",
            "\n",
            "In Avengers: Infinity War, Tony Stark takes on the mantle of Tony and Carol Danvers while Nick Fury takes over the mantle of Tony. Cap gets to know Tony’s real-life family and realizes that Tony’s father, Peter, and Tony’s mother, Natasha, and Scarlet Witch are on Earth-616.\n",
            "\n",
            "The Avengers fight off an army under the protection of Iron-Man who are trying to figure out a way to stop Thanos. Tony and Gamora agree to teaming up against Iron Man. Iron Man initially attacks Loki initially believing Loki to be on Earth-616. Loki uses the Sceptre to open a portal and the Avengers fight. Iron Man deflects the beam hitting Iron Man and Thanos. The beam kills Loki and the Sceptre falls into the ocean.\n",
            "\n",
            "Tony is able to retrieve the Sceptre from the ocean. Thor sneaks back into the realm he lost in\n",
            "\n",
            "[50 | 149.54] loss=0.18 avg=1.13\n",
            "[60 | 173.52] loss=0.06 avg=0.95\n",
            "Saving checkpoint/run1/model-60\n",
            "======== SAMPLE 1 ========\n",
            " out the way through the story). And so we get the survivors of the SpaceShipTwo crashing on a remote alien world, where they learn of Skrullific and his men's discovery. Long story short, Gamora and Nebula fight to the death to get to the asteroid, only to realize that it’s Earth. They run into Groot, who tells them about the Obadiah’s song and the way it’s played across the universe. Groot explains to them that a kingdom called Ophiuchus has a king named Mormont who has a cult around him. That king, Jerrik, who has a past of blasphemy, is enshrouding Mormont in a phylactery made of Mors that he’s going to devour. Jerrik kills Mormont, puts his mind in Mors, gives himself a powerful gaseous purification, becomes king, devises a scroll and a hammer, wears crown depicting his crowning, unleashes the power of prophecy (go figure!), beats up Mormont, takes down all of the other kingpins, throws him over a waterfall, and set the world ablaze.\n",
            "\n",
            "\n",
            "Happier said time.\n",
            "\n",
            "\n",
            "In the film, Gamora is working in Yeltsin, Uzbekistan. A human being called Mina Moga is stealing from a plant and taking credit. Gamora and Mina agree to help each other find the sap. The plant’s reprobate buyer, who's name is Obadiah Stane, is created Homeless. Mina, Groot, and Drax are left to grow food for themselves by the time the plant runs low. Obadiah and Groot set off on their own path, but make their way to Mordor.\n",
            "\n",
            "\n",
            "The main villain, Shuri, is a human who lost his family in the Shrines. He plans on stealing from the stores and stealing from New Reno. He falls into the river and dies, and a new location is discovered for the location. He keeps growing and eventually becomes one of the most powerful men in the land. He takes advantage of everyone’s darkness to demand that all the of the Vampires become Level 3s within a day. The Vampires devour all the Groot and Drax within a day and die. Shuri and Mina fight for their lives while Drax and Mina themselves devour the Vampires' blood. Shuri reaches the Dark Tower (which is under Mormont’s control) and destroys the Vampires before them.\n",
            "\n",
            "\n",
            "The remaining Vampires flee with Shuri and the rest of the Groot and Drax. They run into Mina and Gamora and find their way to the city. They disassemble the Vampires' equipment and prepare for battle. The five of them fight and defeat Shuri but keep fighting (go figure). The Vampires try to kill Gamora (who is about to faint) by the river but are subdued by Shuri. The Vampires kill Gamora but leave the metal covering Gamora’s head (go figure). The Vampires set the city on fire (go figure).\n",
            "\n",
            "\n",
            "The five of them run into the city and find their way to the city. Shuri disassemble the Vampires weapon (a crossbow) and prepare to fire. The Vampires kill them but leave the metal covering their faces (go figure). The Vampires set the city on fire but leave metal covering their mouths (go figure). The Vampires set the city on fire but separate them because they have separate minds. Thus Shuri and Mina die (go figure).\n",
            "\n",
            "\n",
            "The Vampires kill Shuri but leave the metal covering their mouths (go figure). The Vampires set the city on fire but separate them because they have separate minds. Thus Chitauri Ulysses Klaue die (go figure).\n",
            "\n",
            "Reality TV Stars:\n",
            "\n",
            "Doctor Strange (Robert Downey) as Quill; Gamora (Chitauri Dr. Strange); Drax (Drax)\n",
            "\n",
            "Doctor Strange (Robert Downey) as Quill; Gamora (Chitauri Dr. Strange); Drax (Drax) Peter Parker (Spider-Man), Peter Parker (Time World), Dr. Jane Foster (Human Torch), Wanda Maximoff (Woman-in-The-Wall), Zemo Kinslayer (Wallace), Dr. Bruce Banner (Bruce Banner), Bruce Banner (Reckless), Dr. Selvig (Selvig wears a crown), Wanda and Dr. Bruce Banner colliding (go figure).\n",
            "\n",
            "Nick Fury (Robert Downey) as Captain America; Falcon (Tony Stark) as Ant-Man/Wasp; and Wanda as Ant-Hawk.\n",
            "\n",
            "In this film, we are shown that a meteorite hit a place in Africa thousands of years ago. This meteorite has a metal embedded in it\n",
            "\n",
            "[70 | 210.17] loss=0.05 avg=0.82\n",
            "interrupted\n",
            "Saving checkpoint/run1/model-72\n"
          ],
          "name": "stdout"
        }
      ]
    },
    {
      "cell_type": "code",
      "metadata": {
        "colab": {
          "base_uri": "https://localhost:8080/"
        },
        "id": "qXp2jHuvnzxg",
        "outputId": "e06d5083-e992-4c46-d462-64d00a16e77f"
      },
      "source": [
        "gpt2.generate(sess, run_name='run1')"
      ],
      "execution_count": 6,
      "outputs": [
        {
          "output_type": "stream",
          "text": [
            "’s dad.\n",
            "\n",
            "In the 3-D universe, Dr. James T. Kirk is a paraplegic who has a low-grade spleen punctured by a crushingly metal part. Due to this, he gets his hands on a tiny bit of metal called a “Vibranium’. Since his surgery to close the Vibranium artery failed, James has been taking over production of the weapon. As a result, due to his low-grade Vibranium, he cannot use it’s weapons. Instead, he’s implanted an electromagnet into his chest to keep it from imploding. This electromagnet causes James to lose his control of his chest. Eventually, when he’s able to use the electromagnet to lift his glasses out of his chest, heNetMessage returns. Hetates Daniel, who has lost his family in the explosion, and tries to warn James. However, James is unable to use his powers and is transported to Earth.\n",
            "\n",
            "After a while, T’Challa decides that he’s going to personally draw the inspiration for the universe from Star Trek: The Movie. T’Challa is initially given the task of creating a universe in which to live. He agrees to take over the universe and create one based on his own heart. He also informs Captain Kirk that he plans on resigning after the events of The Avengers.\n",
            "\n",
            "While the arc reactor, that T’Challa makes, powers his suit, it’s not his invention. Many years back his father, Howard, and a Russian scientist, Anton Vanko, invented it. Anton tried to sell it for profit and is deported back home. Ivan, Anton’s son, happens to see the Iron Man powered by his father arc and wants revenge. Ivan begins building a mini arc reactor based weapon. At a Grand Prix, Ivan attacks Tony who uses his portable suit to become Iron Man and defeats Ivan. Seeing this event, Justin Hammer, a Start Industry rival, stages Ivan’s death and gets him to build armored suits.\n",
            "\n",
            "While all of a byproduct of Iron Man’s build is his father’s die-off, Justin builds a suit powered by his brother’s arc. This is a powered-up version of the regular suit, but has a metal cover to protect it from damage. During an event that involves Iron Man and Robin, Justin builds and upgrades the new arc reactor. During the film, Robin is distracted by a dreamer who appears to be her mother. The two of them fight, and Robin blows up the compound. Ivan takes Justin with him and builds a new home in.\n",
            "\n",
            "After the events of The Avengers, Tony takes Justin with him to space to develop a weapon that can destroy everything in its path. Iron Man is angry with Tony for taking Justin with him on a space mission. Tony takes away Iron Man’s missile. Soon, Rocket Man appears and tries to sabotage the rocket and kills Rocket Man. Seeing this as a chance to show off, Tony gives Rocket Man a ride in rocket powered armored cars.\n",
            "\n",
            "The rocket goes rogue and blows up in the rocket room, causing a explosion that destroys the compound. Tony grabs Rocket Man and leads him to a landing zone dotted around the outer space. In the zone, there is a damaged rocket, but no one knows about this location.\n",
            "\n",
            "At a UN briefing, Tony informs Chitauri General Rossiter that a new race, the Asiatic, are trying to take over the Galaxy. The Chitauri believe that a New Age God, Kree, is trying to destroy all of us and want to use the Infinity Stones to open a new world for all of us. Tony is able to use the Infinity Gauntlet to lift the Asiatic out of the way. They then throw Tony over a waterfall and destroy his home world.\n",
            "\n",
            "Tony is able to use the Ant-Man suit to subdue the super-powered Maria Hill and save the day. She tells Howard about what has gone wrong with the park. Tony says that he’s not the guy who broke up the Mar-V and that he’ll be fine. Howard smiles meaning to say “serious matter’ing.\"\n",
            "\n",
            "After the park is safe, Tony announces at the UN that he is a part of a deal that will allow billionaire M.I.A.x operator Phil Spencer to build a massive, super-powered super-powered suit. The result is a super-powered, super-powered M.I.A.x officer, Spencer, can control a suit. M.I.A.x is created to be a place for super-powered people to go to learn and grow.\n",
            "\n",
            "While the entire arc reactor is made from nickel, a common element in the universe, terra-metal is made from a different element. This element is found\n"
          ],
          "name": "stdout"
        }
      ]
    },
    {
      "cell_type": "code",
      "metadata": {
        "colab": {
          "base_uri": "https://localhost:8080/",
          "height": 306
        },
        "id": "jsh3G3OeqaLQ",
        "outputId": "2de63b39-3670-4dcd-e057-b14215ac4576"
      },
      "source": [
        "gpt2.generate(sess, run_name='run1')"
      ],
      "execution_count": 7,
      "outputs": [
        {
          "output_type": "error",
          "ename": "KeyboardInterrupt",
          "evalue": "ignored",
          "traceback": [
            "\u001b[0;31m---------------------------------------------------------------------------\u001b[0m",
            "\u001b[0;31mKeyboardInterrupt\u001b[0m                         Traceback (most recent call last)",
            "\u001b[0;32m<ipython-input-7-5d868bf0f80e>\u001b[0m in \u001b[0;36m<module>\u001b[0;34m()\u001b[0m\n\u001b[0;32m----> 1\u001b[0;31m \u001b[0mgpt2\u001b[0m\u001b[0;34m.\u001b[0m\u001b[0mgenerate\u001b[0m\u001b[0;34m(\u001b[0m\u001b[0msess\u001b[0m\u001b[0;34m,\u001b[0m \u001b[0mrun_name\u001b[0m\u001b[0;34m=\u001b[0m\u001b[0;34m'run1'\u001b[0m\u001b[0;34m)\u001b[0m\u001b[0;34m\u001b[0m\u001b[0;34m\u001b[0m\u001b[0m\n\u001b[0m",
            "\u001b[0;32m/usr/local/lib/python3.6/dist-packages/gpt_2_simple/gpt_2.py\u001b[0m in \u001b[0;36mgenerate\u001b[0;34m(sess, run_name, checkpoint_dir, model_name, model_dir, sample_dir, return_as_list, truncate, destination_path, sample_delim, prefix, seed, nsamples, batch_size, length, temperature, top_k, top_p, include_prefix)\u001b[0m\n\u001b[1;32m    457\u001b[0m         \u001b[0mcontext\u001b[0m\u001b[0;34m=\u001b[0m\u001b[0mcontext\u001b[0m \u001b[0;32mif\u001b[0m \u001b[0mprefix\u001b[0m \u001b[0;32melse\u001b[0m \u001b[0;32mNone\u001b[0m\u001b[0;34m,\u001b[0m\u001b[0;34m\u001b[0m\u001b[0;34m\u001b[0m\u001b[0m\n\u001b[1;32m    458\u001b[0m         \u001b[0mbatch_size\u001b[0m\u001b[0;34m=\u001b[0m\u001b[0mbatch_size\u001b[0m\u001b[0;34m,\u001b[0m\u001b[0;34m\u001b[0m\u001b[0;34m\u001b[0m\u001b[0m\n\u001b[0;32m--> 459\u001b[0;31m         \u001b[0mtemperature\u001b[0m\u001b[0;34m=\u001b[0m\u001b[0mtemperature\u001b[0m\u001b[0;34m,\u001b[0m \u001b[0mtop_k\u001b[0m\u001b[0;34m=\u001b[0m\u001b[0mtop_k\u001b[0m\u001b[0;34m,\u001b[0m \u001b[0mtop_p\u001b[0m\u001b[0;34m=\u001b[0m\u001b[0mtop_p\u001b[0m\u001b[0;34m\u001b[0m\u001b[0;34m\u001b[0m\u001b[0m\n\u001b[0m\u001b[1;32m    460\u001b[0m     )[:, 1:]\n\u001b[1;32m    461\u001b[0m \u001b[0;34m\u001b[0m\u001b[0m\n",
            "\u001b[0;32m/usr/local/lib/python3.6/dist-packages/gpt_2_simple/src/sample.py\u001b[0m in \u001b[0;36msample_sequence\u001b[0;34m(hparams, length, start_token, batch_size, context, temperature, top_k, top_p)\u001b[0m\n\u001b[1;32m     99\u001b[0m                 \u001b[0mtf\u001b[0m\u001b[0;34m.\u001b[0m\u001b[0mTensorShape\u001b[0m\u001b[0;34m(\u001b[0m\u001b[0;34m[\u001b[0m\u001b[0mbatch_size\u001b[0m\u001b[0;34m,\u001b[0m \u001b[0;32mNone\u001b[0m\u001b[0;34m]\u001b[0m\u001b[0;34m)\u001b[0m\u001b[0;34m,\u001b[0m\u001b[0;34m\u001b[0m\u001b[0;34m\u001b[0m\u001b[0m\n\u001b[1;32m    100\u001b[0m             ],\n\u001b[0;32m--> 101\u001b[0;31m             \u001b[0mback_prop\u001b[0m\u001b[0;34m=\u001b[0m\u001b[0;32mFalse\u001b[0m\u001b[0;34m,\u001b[0m\u001b[0;34m\u001b[0m\u001b[0;34m\u001b[0m\u001b[0m\n\u001b[0m\u001b[1;32m    102\u001b[0m         )\n\u001b[1;32m    103\u001b[0m \u001b[0;34m\u001b[0m\u001b[0m\n",
            "\u001b[0;32m/tensorflow-1.15.2/python3.6/tensorflow_core/python/ops/control_flow_ops.py\u001b[0m in \u001b[0;36mwhile_loop\u001b[0;34m(cond, body, loop_vars, shape_invariants, parallel_iterations, back_prop, swap_memory, name, maximum_iterations, return_same_structure)\u001b[0m\n\u001b[1;32m   2751\u001b[0m       \u001b[0mops\u001b[0m\u001b[0;34m.\u001b[0m\u001b[0madd_to_collection\u001b[0m\u001b[0;34m(\u001b[0m\u001b[0mops\u001b[0m\u001b[0;34m.\u001b[0m\u001b[0mGraphKeys\u001b[0m\u001b[0;34m.\u001b[0m\u001b[0mWHILE_CONTEXT\u001b[0m\u001b[0;34m,\u001b[0m \u001b[0mloop_context\u001b[0m\u001b[0;34m)\u001b[0m\u001b[0;34m\u001b[0m\u001b[0;34m\u001b[0m\u001b[0m\n\u001b[1;32m   2752\u001b[0m     result = loop_context.BuildLoop(cond, body, loop_vars, shape_invariants,\n\u001b[0;32m-> 2753\u001b[0;31m                                     return_same_structure)\n\u001b[0m\u001b[1;32m   2754\u001b[0m     \u001b[0;32mif\u001b[0m \u001b[0mmaximum_iterations\u001b[0m \u001b[0;32mis\u001b[0m \u001b[0;32mnot\u001b[0m \u001b[0;32mNone\u001b[0m\u001b[0;34m:\u001b[0m\u001b[0;34m\u001b[0m\u001b[0;34m\u001b[0m\u001b[0m\n\u001b[1;32m   2755\u001b[0m       \u001b[0;32mreturn\u001b[0m \u001b[0mresult\u001b[0m\u001b[0;34m[\u001b[0m\u001b[0;36m1\u001b[0m\u001b[0;34m]\u001b[0m\u001b[0;34m\u001b[0m\u001b[0;34m\u001b[0m\u001b[0m\n",
            "\u001b[0;32m/tensorflow-1.15.2/python3.6/tensorflow_core/python/ops/control_flow_ops.py\u001b[0m in \u001b[0;36mBuildLoop\u001b[0;34m(self, pred, body, loop_vars, shape_invariants, return_same_structure)\u001b[0m\n\u001b[1;32m   2243\u001b[0m       \u001b[0;32mwith\u001b[0m \u001b[0mops\u001b[0m\u001b[0;34m.\u001b[0m\u001b[0mget_default_graph\u001b[0m\u001b[0;34m(\u001b[0m\u001b[0;34m)\u001b[0m\u001b[0;34m.\u001b[0m\u001b[0m_mutation_lock\u001b[0m\u001b[0;34m(\u001b[0m\u001b[0;34m)\u001b[0m\u001b[0;34m:\u001b[0m  \u001b[0;31m# pylint: disable=protected-access\u001b[0m\u001b[0;34m\u001b[0m\u001b[0;34m\u001b[0m\u001b[0m\n\u001b[1;32m   2244\u001b[0m         original_body_result, exit_vars = self._BuildLoop(\n\u001b[0;32m-> 2245\u001b[0;31m             pred, body, original_loop_vars, loop_vars, shape_invariants)\n\u001b[0m\u001b[1;32m   2246\u001b[0m     \u001b[0;32mfinally\u001b[0m\u001b[0;34m:\u001b[0m\u001b[0;34m\u001b[0m\u001b[0;34m\u001b[0m\u001b[0m\n\u001b[1;32m   2247\u001b[0m       \u001b[0mself\u001b[0m\u001b[0;34m.\u001b[0m\u001b[0mExit\u001b[0m\u001b[0;34m(\u001b[0m\u001b[0;34m)\u001b[0m\u001b[0;34m\u001b[0m\u001b[0;34m\u001b[0m\u001b[0m\n",
            "\u001b[0;32m/tensorflow-1.15.2/python3.6/tensorflow_core/python/ops/control_flow_ops.py\u001b[0m in \u001b[0;36m_BuildLoop\u001b[0;34m(self, pred, body, original_loop_vars, loop_vars, shape_invariants)\u001b[0m\n\u001b[1;32m   2168\u001b[0m         expand_composites=True)\n\u001b[1;32m   2169\u001b[0m     \u001b[0mpre_summaries\u001b[0m \u001b[0;34m=\u001b[0m \u001b[0mops\u001b[0m\u001b[0;34m.\u001b[0m\u001b[0mget_collection\u001b[0m\u001b[0;34m(\u001b[0m\u001b[0mops\u001b[0m\u001b[0;34m.\u001b[0m\u001b[0mGraphKeys\u001b[0m\u001b[0;34m.\u001b[0m\u001b[0m_SUMMARY_COLLECTION\u001b[0m\u001b[0;34m)\u001b[0m  \u001b[0;31m# pylint: disable=protected-access\u001b[0m\u001b[0;34m\u001b[0m\u001b[0;34m\u001b[0m\u001b[0m\n\u001b[0;32m-> 2170\u001b[0;31m     \u001b[0mbody_result\u001b[0m \u001b[0;34m=\u001b[0m \u001b[0mbody\u001b[0m\u001b[0;34m(\u001b[0m\u001b[0;34m*\u001b[0m\u001b[0mpacked_vars_for_body\u001b[0m\u001b[0;34m)\u001b[0m\u001b[0;34m\u001b[0m\u001b[0;34m\u001b[0m\u001b[0m\n\u001b[0m\u001b[1;32m   2171\u001b[0m     \u001b[0mpost_summaries\u001b[0m \u001b[0;34m=\u001b[0m \u001b[0mops\u001b[0m\u001b[0;34m.\u001b[0m\u001b[0mget_collection\u001b[0m\u001b[0;34m(\u001b[0m\u001b[0mops\u001b[0m\u001b[0;34m.\u001b[0m\u001b[0mGraphKeys\u001b[0m\u001b[0;34m.\u001b[0m\u001b[0m_SUMMARY_COLLECTION\u001b[0m\u001b[0;34m)\u001b[0m  \u001b[0;31m# pylint: disable=protected-access\u001b[0m\u001b[0;34m\u001b[0m\u001b[0;34m\u001b[0m\u001b[0m\n\u001b[1;32m   2172\u001b[0m     \u001b[0;32mif\u001b[0m \u001b[0;32mnot\u001b[0m \u001b[0mnest\u001b[0m\u001b[0;34m.\u001b[0m\u001b[0mis_sequence_or_composite\u001b[0m\u001b[0;34m(\u001b[0m\u001b[0mbody_result\u001b[0m\u001b[0;34m)\u001b[0m\u001b[0;34m:\u001b[0m\u001b[0;34m\u001b[0m\u001b[0;34m\u001b[0m\u001b[0m\n",
            "\u001b[0;32m/tensorflow-1.15.2/python3.6/tensorflow_core/python/ops/control_flow_ops.py\u001b[0m in \u001b[0;36m<lambda>\u001b[0;34m(i, lv)\u001b[0m\n\u001b[1;32m   2703\u001b[0m         cond = lambda i, lv: (  # pylint: disable=g-long-lambda\n\u001b[1;32m   2704\u001b[0m             math_ops.logical_and(i < maximum_iterations, orig_cond(*lv)))\n\u001b[0;32m-> 2705\u001b[0;31m         \u001b[0mbody\u001b[0m \u001b[0;34m=\u001b[0m \u001b[0;32mlambda\u001b[0m \u001b[0mi\u001b[0m\u001b[0;34m,\u001b[0m \u001b[0mlv\u001b[0m\u001b[0;34m:\u001b[0m \u001b[0;34m(\u001b[0m\u001b[0mi\u001b[0m \u001b[0;34m+\u001b[0m \u001b[0;36m1\u001b[0m\u001b[0;34m,\u001b[0m \u001b[0morig_body\u001b[0m\u001b[0;34m(\u001b[0m\u001b[0;34m*\u001b[0m\u001b[0mlv\u001b[0m\u001b[0;34m)\u001b[0m\u001b[0;34m)\u001b[0m\u001b[0;34m\u001b[0m\u001b[0;34m\u001b[0m\u001b[0m\n\u001b[0m\u001b[1;32m   2706\u001b[0m       \u001b[0mtry_to_pack\u001b[0m \u001b[0;34m=\u001b[0m \u001b[0;32mFalse\u001b[0m\u001b[0;34m\u001b[0m\u001b[0;34m\u001b[0m\u001b[0m\n\u001b[1;32m   2707\u001b[0m \u001b[0;34m\u001b[0m\u001b[0m\n",
            "\u001b[0;32m/usr/local/lib/python3.6/dist-packages/gpt_2_simple/src/sample.py\u001b[0m in \u001b[0;36mbody\u001b[0;34m(past, prev, output)\u001b[0m\n\u001b[1;32m     68\u001b[0m \u001b[0;34m\u001b[0m\u001b[0m\n\u001b[1;32m     69\u001b[0m         \u001b[0;32mdef\u001b[0m \u001b[0mbody\u001b[0m\u001b[0;34m(\u001b[0m\u001b[0mpast\u001b[0m\u001b[0;34m,\u001b[0m \u001b[0mprev\u001b[0m\u001b[0;34m,\u001b[0m \u001b[0moutput\u001b[0m\u001b[0;34m)\u001b[0m\u001b[0;34m:\u001b[0m\u001b[0;34m\u001b[0m\u001b[0;34m\u001b[0m\u001b[0m\n\u001b[0;32m---> 70\u001b[0;31m             \u001b[0mnext_outputs\u001b[0m \u001b[0;34m=\u001b[0m \u001b[0mstep\u001b[0m\u001b[0;34m(\u001b[0m\u001b[0mhparams\u001b[0m\u001b[0;34m,\u001b[0m \u001b[0mprev\u001b[0m\u001b[0;34m[\u001b[0m\u001b[0;34m:\u001b[0m\u001b[0;34m,\u001b[0m \u001b[0mtf\u001b[0m\u001b[0;34m.\u001b[0m\u001b[0mnewaxis\u001b[0m\u001b[0;34m]\u001b[0m\u001b[0;34m,\u001b[0m \u001b[0mpast\u001b[0m\u001b[0;34m=\u001b[0m\u001b[0mpast\u001b[0m\u001b[0;34m)\u001b[0m\u001b[0;34m\u001b[0m\u001b[0;34m\u001b[0m\u001b[0m\n\u001b[0m\u001b[1;32m     71\u001b[0m             \u001b[0mlogits\u001b[0m \u001b[0;34m=\u001b[0m \u001b[0mnext_outputs\u001b[0m\u001b[0;34m[\u001b[0m\u001b[0;34m'logits'\u001b[0m\u001b[0;34m]\u001b[0m\u001b[0;34m[\u001b[0m\u001b[0;34m:\u001b[0m\u001b[0;34m,\u001b[0m \u001b[0;34m-\u001b[0m\u001b[0;36m1\u001b[0m\u001b[0;34m,\u001b[0m \u001b[0;34m:\u001b[0m\u001b[0;34m]\u001b[0m \u001b[0;34m/\u001b[0m \u001b[0mtf\u001b[0m\u001b[0;34m.\u001b[0m\u001b[0mcast\u001b[0m\u001b[0;34m(\u001b[0m\u001b[0mtemperature\u001b[0m\u001b[0;34m,\u001b[0m \u001b[0mtf\u001b[0m\u001b[0;34m.\u001b[0m\u001b[0mfloat32\u001b[0m\u001b[0;34m)\u001b[0m\u001b[0;34m\u001b[0m\u001b[0;34m\u001b[0m\u001b[0m\n\u001b[1;32m     72\u001b[0m             \u001b[0;32mif\u001b[0m \u001b[0mtop_p\u001b[0m \u001b[0;34m>\u001b[0m \u001b[0;36m0.0\u001b[0m\u001b[0;34m:\u001b[0m\u001b[0;34m\u001b[0m\u001b[0;34m\u001b[0m\u001b[0m\n",
            "\u001b[0;32m/usr/local/lib/python3.6/dist-packages/gpt_2_simple/src/sample.py\u001b[0m in \u001b[0;36mstep\u001b[0;34m(hparams, tokens, past)\u001b[0m\n\u001b[1;32m     50\u001b[0m     \u001b[0;32mdef\u001b[0m \u001b[0mstep\u001b[0m\u001b[0;34m(\u001b[0m\u001b[0mhparams\u001b[0m\u001b[0;34m,\u001b[0m \u001b[0mtokens\u001b[0m\u001b[0;34m,\u001b[0m \u001b[0mpast\u001b[0m\u001b[0;34m=\u001b[0m\u001b[0;32mNone\u001b[0m\u001b[0;34m)\u001b[0m\u001b[0;34m:\u001b[0m\u001b[0;34m\u001b[0m\u001b[0;34m\u001b[0m\u001b[0m\n\u001b[1;32m     51\u001b[0m         lm_output = model.model(hparams=hparams, X=tokens,\n\u001b[0;32m---> 52\u001b[0;31m                                 past=past, reuse=tf.compat.v1.AUTO_REUSE)\n\u001b[0m\u001b[1;32m     53\u001b[0m \u001b[0;34m\u001b[0m\u001b[0m\n\u001b[1;32m     54\u001b[0m         \u001b[0mlogits\u001b[0m \u001b[0;34m=\u001b[0m \u001b[0mlm_output\u001b[0m\u001b[0;34m[\u001b[0m\u001b[0;34m'logits'\u001b[0m\u001b[0;34m]\u001b[0m\u001b[0;34m[\u001b[0m\u001b[0;34m:\u001b[0m\u001b[0;34m,\u001b[0m \u001b[0;34m:\u001b[0m\u001b[0;34m,\u001b[0m \u001b[0;34m:\u001b[0m\u001b[0mhparams\u001b[0m\u001b[0;34m.\u001b[0m\u001b[0mn_vocab\u001b[0m\u001b[0;34m]\u001b[0m\u001b[0;34m\u001b[0m\u001b[0;34m\u001b[0m\u001b[0m\n",
            "\u001b[0;32m/usr/local/lib/python3.6/dist-packages/gpt_2_simple/src/model.py\u001b[0m in \u001b[0;36mmodel\u001b[0;34m(hparams, X, past, scope, gpus, reuse)\u001b[0m\n\u001b[1;32m    195\u001b[0m         \u001b[0;32mfor\u001b[0m \u001b[0mlayer\u001b[0m\u001b[0;34m,\u001b[0m \u001b[0mpast\u001b[0m \u001b[0;32min\u001b[0m \u001b[0menumerate\u001b[0m\u001b[0;34m(\u001b[0m\u001b[0mpasts\u001b[0m\u001b[0;34m)\u001b[0m\u001b[0;34m:\u001b[0m\u001b[0;34m\u001b[0m\u001b[0;34m\u001b[0m\u001b[0m\n\u001b[1;32m    196\u001b[0m             \u001b[0;32mif\u001b[0m \u001b[0mgpu_stack\u001b[0m \u001b[0;34m<\u001b[0m \u001b[0;36m1\u001b[0m\u001b[0;34m:\u001b[0m\u001b[0;34m\u001b[0m\u001b[0;34m\u001b[0m\u001b[0m\n\u001b[0;32m--> 197\u001b[0;31m                 \u001b[0mh\u001b[0m\u001b[0;34m,\u001b[0m \u001b[0mpresent\u001b[0m \u001b[0;34m=\u001b[0m \u001b[0mblock\u001b[0m\u001b[0;34m(\u001b[0m\u001b[0mh\u001b[0m\u001b[0;34m,\u001b[0m \u001b[0;34m'h%d'\u001b[0m \u001b[0;34m%\u001b[0m \u001b[0mlayer\u001b[0m\u001b[0;34m,\u001b[0m \u001b[0mpast\u001b[0m\u001b[0;34m=\u001b[0m\u001b[0mpast\u001b[0m\u001b[0;34m,\u001b[0m \u001b[0mhparams\u001b[0m\u001b[0;34m=\u001b[0m\u001b[0mhparams\u001b[0m\u001b[0;34m)\u001b[0m\u001b[0;34m\u001b[0m\u001b[0;34m\u001b[0m\u001b[0m\n\u001b[0m\u001b[1;32m    198\u001b[0m                 \u001b[0mtf\u001b[0m\u001b[0;34m.\u001b[0m\u001b[0mcompat\u001b[0m\u001b[0;34m.\u001b[0m\u001b[0mv1\u001b[0m\u001b[0;34m.\u001b[0m\u001b[0madd_to_collection\u001b[0m\u001b[0;34m(\u001b[0m\u001b[0;34m'checkpoints'\u001b[0m\u001b[0;34m,\u001b[0m \u001b[0mh\u001b[0m\u001b[0;34m)\u001b[0m\u001b[0;34m\u001b[0m\u001b[0;34m\u001b[0m\u001b[0m\n\u001b[1;32m    199\u001b[0m                 \u001b[0mpresents\u001b[0m\u001b[0;34m.\u001b[0m\u001b[0mappend\u001b[0m\u001b[0;34m(\u001b[0m\u001b[0mpresent\u001b[0m\u001b[0;34m)\u001b[0m\u001b[0;34m\u001b[0m\u001b[0;34m\u001b[0m\u001b[0m\n",
            "\u001b[0;32m/usr/local/lib/python3.6/dist-packages/gpt_2_simple/src/model.py\u001b[0m in \u001b[0;36mblock\u001b[0;34m(x, scope, past, hparams)\u001b[0m\n\u001b[1;32m    154\u001b[0m     \u001b[0;32mwith\u001b[0m \u001b[0mtf\u001b[0m\u001b[0;34m.\u001b[0m\u001b[0mcompat\u001b[0m\u001b[0;34m.\u001b[0m\u001b[0mv1\u001b[0m\u001b[0;34m.\u001b[0m\u001b[0mvariable_scope\u001b[0m\u001b[0;34m(\u001b[0m\u001b[0mscope\u001b[0m\u001b[0;34m)\u001b[0m\u001b[0;34m:\u001b[0m\u001b[0;34m\u001b[0m\u001b[0;34m\u001b[0m\u001b[0m\n\u001b[1;32m    155\u001b[0m         \u001b[0mnx\u001b[0m \u001b[0;34m=\u001b[0m \u001b[0mx\u001b[0m\u001b[0;34m.\u001b[0m\u001b[0mshape\u001b[0m\u001b[0;34m[\u001b[0m\u001b[0;34m-\u001b[0m\u001b[0;36m1\u001b[0m\u001b[0;34m]\u001b[0m\u001b[0;34m.\u001b[0m\u001b[0mvalue\u001b[0m\u001b[0;34m\u001b[0m\u001b[0;34m\u001b[0m\u001b[0m\n\u001b[0;32m--> 156\u001b[0;31m         \u001b[0ma\u001b[0m\u001b[0;34m,\u001b[0m \u001b[0mpresent\u001b[0m \u001b[0;34m=\u001b[0m \u001b[0mattn\u001b[0m\u001b[0;34m(\u001b[0m\u001b[0mnorm\u001b[0m\u001b[0;34m(\u001b[0m\u001b[0mx\u001b[0m\u001b[0;34m,\u001b[0m \u001b[0;34m'ln_1'\u001b[0m\u001b[0;34m)\u001b[0m\u001b[0;34m,\u001b[0m \u001b[0;34m'attn'\u001b[0m\u001b[0;34m,\u001b[0m \u001b[0mnx\u001b[0m\u001b[0;34m,\u001b[0m \u001b[0mpast\u001b[0m\u001b[0;34m=\u001b[0m\u001b[0mpast\u001b[0m\u001b[0;34m,\u001b[0m \u001b[0mhparams\u001b[0m\u001b[0;34m=\u001b[0m\u001b[0mhparams\u001b[0m\u001b[0;34m)\u001b[0m\u001b[0;34m\u001b[0m\u001b[0;34m\u001b[0m\u001b[0m\n\u001b[0m\u001b[1;32m    157\u001b[0m         \u001b[0mx\u001b[0m \u001b[0;34m=\u001b[0m \u001b[0mx\u001b[0m \u001b[0;34m+\u001b[0m \u001b[0ma\u001b[0m\u001b[0;34m\u001b[0m\u001b[0;34m\u001b[0m\u001b[0m\n\u001b[1;32m    158\u001b[0m         \u001b[0mm\u001b[0m \u001b[0;34m=\u001b[0m \u001b[0mmlp\u001b[0m\u001b[0;34m(\u001b[0m\u001b[0mnorm\u001b[0m\u001b[0;34m(\u001b[0m\u001b[0mx\u001b[0m\u001b[0;34m,\u001b[0m \u001b[0;34m'ln_2'\u001b[0m\u001b[0;34m)\u001b[0m\u001b[0;34m,\u001b[0m \u001b[0;34m'mlp'\u001b[0m\u001b[0;34m,\u001b[0m \u001b[0mnx\u001b[0m\u001b[0;34m*\u001b[0m\u001b[0;36m4\u001b[0m\u001b[0;34m,\u001b[0m \u001b[0mhparams\u001b[0m\u001b[0;34m=\u001b[0m\u001b[0mhparams\u001b[0m\u001b[0;34m)\u001b[0m\u001b[0;34m\u001b[0m\u001b[0;34m\u001b[0m\u001b[0m\n",
            "\u001b[0;32m/usr/local/lib/python3.6/dist-packages/gpt_2_simple/src/model.py\u001b[0m in \u001b[0;36mattn\u001b[0;34m(x, scope, n_state, past, hparams)\u001b[0m\n\u001b[1;32m    131\u001b[0m     \u001b[0;32mwith\u001b[0m \u001b[0mtf\u001b[0m\u001b[0;34m.\u001b[0m\u001b[0mcompat\u001b[0m\u001b[0;34m.\u001b[0m\u001b[0mv1\u001b[0m\u001b[0;34m.\u001b[0m\u001b[0mvariable_scope\u001b[0m\u001b[0;34m(\u001b[0m\u001b[0mscope\u001b[0m\u001b[0;34m)\u001b[0m\u001b[0;34m:\u001b[0m\u001b[0;34m\u001b[0m\u001b[0;34m\u001b[0m\u001b[0m\n\u001b[1;32m    132\u001b[0m         \u001b[0mc\u001b[0m \u001b[0;34m=\u001b[0m \u001b[0mconv1d\u001b[0m\u001b[0;34m(\u001b[0m\u001b[0mx\u001b[0m\u001b[0;34m,\u001b[0m \u001b[0;34m'c_attn'\u001b[0m\u001b[0;34m,\u001b[0m \u001b[0mn_state\u001b[0m\u001b[0;34m*\u001b[0m\u001b[0;36m3\u001b[0m\u001b[0;34m)\u001b[0m\u001b[0;34m\u001b[0m\u001b[0;34m\u001b[0m\u001b[0m\n\u001b[0;32m--> 133\u001b[0;31m         \u001b[0mq\u001b[0m\u001b[0;34m,\u001b[0m \u001b[0mk\u001b[0m\u001b[0;34m,\u001b[0m \u001b[0mv\u001b[0m \u001b[0;34m=\u001b[0m \u001b[0mmap\u001b[0m\u001b[0;34m(\u001b[0m\u001b[0msplit_heads\u001b[0m\u001b[0;34m,\u001b[0m \u001b[0mtf\u001b[0m\u001b[0;34m.\u001b[0m\u001b[0msplit\u001b[0m\u001b[0;34m(\u001b[0m\u001b[0mc\u001b[0m\u001b[0;34m,\u001b[0m \u001b[0;36m3\u001b[0m\u001b[0;34m,\u001b[0m \u001b[0maxis\u001b[0m\u001b[0;34m=\u001b[0m\u001b[0;36m2\u001b[0m\u001b[0;34m)\u001b[0m\u001b[0;34m)\u001b[0m\u001b[0;34m\u001b[0m\u001b[0;34m\u001b[0m\u001b[0m\n\u001b[0m\u001b[1;32m    134\u001b[0m         \u001b[0mpresent\u001b[0m \u001b[0;34m=\u001b[0m \u001b[0mtf\u001b[0m\u001b[0;34m.\u001b[0m\u001b[0mstack\u001b[0m\u001b[0;34m(\u001b[0m\u001b[0;34m[\u001b[0m\u001b[0mk\u001b[0m\u001b[0;34m,\u001b[0m \u001b[0mv\u001b[0m\u001b[0;34m]\u001b[0m\u001b[0;34m,\u001b[0m \u001b[0maxis\u001b[0m\u001b[0;34m=\u001b[0m\u001b[0;36m1\u001b[0m\u001b[0;34m)\u001b[0m\u001b[0;34m\u001b[0m\u001b[0;34m\u001b[0m\u001b[0m\n\u001b[1;32m    135\u001b[0m         \u001b[0;32mif\u001b[0m \u001b[0mpast\u001b[0m \u001b[0;32mis\u001b[0m \u001b[0;32mnot\u001b[0m \u001b[0;32mNone\u001b[0m\u001b[0;34m:\u001b[0m\u001b[0;34m\u001b[0m\u001b[0;34m\u001b[0m\u001b[0m\n",
            "\u001b[0;32m/usr/local/lib/python3.6/dist-packages/gpt_2_simple/src/model.py\u001b[0m in \u001b[0;36msplit_heads\u001b[0;34m(x)\u001b[0m\n\u001b[1;32m    105\u001b[0m     \u001b[0;32mdef\u001b[0m \u001b[0msplit_heads\u001b[0m\u001b[0;34m(\u001b[0m\u001b[0mx\u001b[0m\u001b[0;34m)\u001b[0m\u001b[0;34m:\u001b[0m\u001b[0;34m\u001b[0m\u001b[0;34m\u001b[0m\u001b[0m\n\u001b[1;32m    106\u001b[0m         \u001b[0;31m# From [batch, sequence, features] to [batch, heads, sequence, features]\u001b[0m\u001b[0;34m\u001b[0m\u001b[0;34m\u001b[0m\u001b[0;34m\u001b[0m\u001b[0m\n\u001b[0;32m--> 107\u001b[0;31m         \u001b[0;32mreturn\u001b[0m \u001b[0mtf\u001b[0m\u001b[0;34m.\u001b[0m\u001b[0mtranspose\u001b[0m\u001b[0;34m(\u001b[0m\u001b[0ma\u001b[0m\u001b[0;34m=\u001b[0m\u001b[0msplit_states\u001b[0m\u001b[0;34m(\u001b[0m\u001b[0mx\u001b[0m\u001b[0;34m,\u001b[0m \u001b[0mhparams\u001b[0m\u001b[0;34m.\u001b[0m\u001b[0mn_head\u001b[0m\u001b[0;34m)\u001b[0m\u001b[0;34m,\u001b[0m \u001b[0mperm\u001b[0m\u001b[0;34m=\u001b[0m\u001b[0;34m[\u001b[0m\u001b[0;36m0\u001b[0m\u001b[0;34m,\u001b[0m \u001b[0;36m2\u001b[0m\u001b[0;34m,\u001b[0m \u001b[0;36m1\u001b[0m\u001b[0;34m,\u001b[0m \u001b[0;36m3\u001b[0m\u001b[0;34m]\u001b[0m\u001b[0;34m)\u001b[0m\u001b[0;34m\u001b[0m\u001b[0;34m\u001b[0m\u001b[0m\n\u001b[0m\u001b[1;32m    108\u001b[0m \u001b[0;34m\u001b[0m\u001b[0m\n\u001b[1;32m    109\u001b[0m     \u001b[0;32mdef\u001b[0m \u001b[0mmerge_heads\u001b[0m\u001b[0;34m(\u001b[0m\u001b[0mx\u001b[0m\u001b[0;34m)\u001b[0m\u001b[0;34m:\u001b[0m\u001b[0;34m\u001b[0m\u001b[0;34m\u001b[0m\u001b[0m\n",
            "\u001b[0;32m/usr/local/lib/python3.6/dist-packages/gpt_2_simple/src/model.py\u001b[0m in \u001b[0;36msplit_states\u001b[0;34m(x, n)\u001b[0m\n\u001b[1;32m     71\u001b[0m     \u001b[0;34m\"\"\"Reshape the last dimension of x into [n, x.shape[-1]/n].\"\"\"\u001b[0m\u001b[0;34m\u001b[0m\u001b[0;34m\u001b[0m\u001b[0m\n\u001b[1;32m     72\u001b[0m     \u001b[0;34m*\u001b[0m\u001b[0mstart\u001b[0m\u001b[0;34m,\u001b[0m \u001b[0mm\u001b[0m \u001b[0;34m=\u001b[0m \u001b[0mshape_list\u001b[0m\u001b[0;34m(\u001b[0m\u001b[0mx\u001b[0m\u001b[0;34m)\u001b[0m\u001b[0;34m\u001b[0m\u001b[0;34m\u001b[0m\u001b[0m\n\u001b[0;32m---> 73\u001b[0;31m     \u001b[0;32mreturn\u001b[0m \u001b[0mtf\u001b[0m\u001b[0;34m.\u001b[0m\u001b[0mreshape\u001b[0m\u001b[0;34m(\u001b[0m\u001b[0mx\u001b[0m\u001b[0;34m,\u001b[0m \u001b[0mstart\u001b[0m \u001b[0;34m+\u001b[0m \u001b[0;34m[\u001b[0m\u001b[0mn\u001b[0m\u001b[0;34m,\u001b[0m \u001b[0mm\u001b[0m\u001b[0;34m//\u001b[0m\u001b[0mn\u001b[0m\u001b[0;34m]\u001b[0m\u001b[0;34m)\u001b[0m\u001b[0;34m\u001b[0m\u001b[0;34m\u001b[0m\u001b[0m\n\u001b[0m\u001b[1;32m     74\u001b[0m \u001b[0;34m\u001b[0m\u001b[0m\n\u001b[1;32m     75\u001b[0m \u001b[0;32mdef\u001b[0m \u001b[0mmerge_states\u001b[0m\u001b[0;34m(\u001b[0m\u001b[0mx\u001b[0m\u001b[0;34m)\u001b[0m\u001b[0;34m:\u001b[0m\u001b[0;34m\u001b[0m\u001b[0;34m\u001b[0m\u001b[0m\n",
            "\u001b[0;32m/tensorflow-1.15.2/python3.6/tensorflow_core/python/ops/array_ops.py\u001b[0m in \u001b[0;36mreshape\u001b[0;34m(tensor, shape, name)\u001b[0m\n\u001b[1;32m    129\u001b[0m     \u001b[0mA\u001b[0m\u001b[0;31m \u001b[0m\u001b[0;31m`\u001b[0m\u001b[0mTensor\u001b[0m\u001b[0;31m`\u001b[0m\u001b[0;34m.\u001b[0m \u001b[0mHas\u001b[0m \u001b[0mthe\u001b[0m \u001b[0msame\u001b[0m \u001b[0mtype\u001b[0m \u001b[0;32mas\u001b[0m\u001b[0;31m \u001b[0m\u001b[0;31m`\u001b[0m\u001b[0mtensor\u001b[0m\u001b[0;31m`\u001b[0m\u001b[0;34m.\u001b[0m\u001b[0;34m\u001b[0m\u001b[0;34m\u001b[0m\u001b[0m\n\u001b[1;32m    130\u001b[0m   \"\"\"\n\u001b[0;32m--> 131\u001b[0;31m   \u001b[0mresult\u001b[0m \u001b[0;34m=\u001b[0m \u001b[0mgen_array_ops\u001b[0m\u001b[0;34m.\u001b[0m\u001b[0mreshape\u001b[0m\u001b[0;34m(\u001b[0m\u001b[0mtensor\u001b[0m\u001b[0;34m,\u001b[0m \u001b[0mshape\u001b[0m\u001b[0;34m,\u001b[0m \u001b[0mname\u001b[0m\u001b[0;34m)\u001b[0m\u001b[0;34m\u001b[0m\u001b[0;34m\u001b[0m\u001b[0m\n\u001b[0m\u001b[1;32m    132\u001b[0m   \u001b[0mtensor_util\u001b[0m\u001b[0;34m.\u001b[0m\u001b[0mmaybe_set_static_shape\u001b[0m\u001b[0;34m(\u001b[0m\u001b[0mresult\u001b[0m\u001b[0;34m,\u001b[0m \u001b[0mshape\u001b[0m\u001b[0;34m)\u001b[0m\u001b[0;34m\u001b[0m\u001b[0;34m\u001b[0m\u001b[0m\n\u001b[1;32m    133\u001b[0m   \u001b[0;32mreturn\u001b[0m \u001b[0mresult\u001b[0m\u001b[0;34m\u001b[0m\u001b[0;34m\u001b[0m\u001b[0m\n",
            "\u001b[0;32m/tensorflow-1.15.2/python3.6/tensorflow_core/python/ops/gen_array_ops.py\u001b[0m in \u001b[0;36mreshape\u001b[0;34m(tensor, shape, name)\u001b[0m\n\u001b[1;32m   8113\u001b[0m   \u001b[0;31m# Add nodes to the TensorFlow graph.\u001b[0m\u001b[0;34m\u001b[0m\u001b[0;34m\u001b[0m\u001b[0;34m\u001b[0m\u001b[0m\n\u001b[1;32m   8114\u001b[0m   _, _, _op = _op_def_lib._apply_op_helper(\n\u001b[0;32m-> 8115\u001b[0;31m         \"Reshape\", tensor=tensor, shape=shape, name=name)\n\u001b[0m\u001b[1;32m   8116\u001b[0m   \u001b[0m_result\u001b[0m \u001b[0;34m=\u001b[0m \u001b[0m_op\u001b[0m\u001b[0;34m.\u001b[0m\u001b[0moutputs\u001b[0m\u001b[0;34m[\u001b[0m\u001b[0;34m:\u001b[0m\u001b[0;34m]\u001b[0m\u001b[0;34m\u001b[0m\u001b[0;34m\u001b[0m\u001b[0m\n\u001b[1;32m   8117\u001b[0m   \u001b[0m_inputs_flat\u001b[0m \u001b[0;34m=\u001b[0m \u001b[0m_op\u001b[0m\u001b[0;34m.\u001b[0m\u001b[0minputs\u001b[0m\u001b[0;34m\u001b[0m\u001b[0;34m\u001b[0m\u001b[0m\n",
            "\u001b[0;32m/tensorflow-1.15.2/python3.6/tensorflow_core/python/framework/op_def_library.py\u001b[0m in \u001b[0;36m_apply_op_helper\u001b[0;34m(self, op_type_name, name, **keywords)\u001b[0m\n\u001b[1;32m    409\u001b[0m     \u001b[0minputs\u001b[0m \u001b[0;34m=\u001b[0m \u001b[0;34m[\u001b[0m\u001b[0;34m]\u001b[0m\u001b[0;34m\u001b[0m\u001b[0;34m\u001b[0m\u001b[0m\n\u001b[1;32m    410\u001b[0m     \u001b[0minput_types\u001b[0m \u001b[0;34m=\u001b[0m \u001b[0;34m[\u001b[0m\u001b[0;34m]\u001b[0m\u001b[0;34m\u001b[0m\u001b[0;34m\u001b[0m\u001b[0m\n\u001b[0;32m--> 411\u001b[0;31m     \u001b[0;32mwith\u001b[0m \u001b[0mg\u001b[0m\u001b[0;34m.\u001b[0m\u001b[0mas_default\u001b[0m\u001b[0;34m(\u001b[0m\u001b[0;34m)\u001b[0m\u001b[0;34m,\u001b[0m \u001b[0mops\u001b[0m\u001b[0;34m.\u001b[0m\u001b[0mname_scope\u001b[0m\u001b[0;34m(\u001b[0m\u001b[0mname\u001b[0m\u001b[0;34m)\u001b[0m \u001b[0;32mas\u001b[0m \u001b[0mscope\u001b[0m\u001b[0;34m:\u001b[0m\u001b[0;34m\u001b[0m\u001b[0;34m\u001b[0m\u001b[0m\n\u001b[0m\u001b[1;32m    412\u001b[0m \u001b[0;34m\u001b[0m\u001b[0m\n\u001b[1;32m    413\u001b[0m       \u001b[0;31m# Perform input type inference\u001b[0m\u001b[0;34m\u001b[0m\u001b[0;34m\u001b[0m\u001b[0;34m\u001b[0m\u001b[0m\n",
            "\u001b[0;32m/usr/lib/python3.6/contextlib.py\u001b[0m in \u001b[0;36m__enter__\u001b[0;34m(self)\u001b[0m\n\u001b[1;32m     79\u001b[0m     \u001b[0;32mdef\u001b[0m \u001b[0m__enter__\u001b[0m\u001b[0;34m(\u001b[0m\u001b[0mself\u001b[0m\u001b[0;34m)\u001b[0m\u001b[0;34m:\u001b[0m\u001b[0;34m\u001b[0m\u001b[0;34m\u001b[0m\u001b[0m\n\u001b[1;32m     80\u001b[0m         \u001b[0;32mtry\u001b[0m\u001b[0;34m:\u001b[0m\u001b[0;34m\u001b[0m\u001b[0;34m\u001b[0m\u001b[0m\n\u001b[0;32m---> 81\u001b[0;31m             \u001b[0;32mreturn\u001b[0m \u001b[0mnext\u001b[0m\u001b[0;34m(\u001b[0m\u001b[0mself\u001b[0m\u001b[0;34m.\u001b[0m\u001b[0mgen\u001b[0m\u001b[0;34m)\u001b[0m\u001b[0;34m\u001b[0m\u001b[0;34m\u001b[0m\u001b[0m\n\u001b[0m\u001b[1;32m     82\u001b[0m         \u001b[0;32mexcept\u001b[0m \u001b[0mStopIteration\u001b[0m\u001b[0;34m:\u001b[0m\u001b[0;34m\u001b[0m\u001b[0;34m\u001b[0m\u001b[0m\n\u001b[1;32m     83\u001b[0m             \u001b[0;32mraise\u001b[0m \u001b[0mRuntimeError\u001b[0m\u001b[0;34m(\u001b[0m\u001b[0;34m\"generator didn't yield\"\u001b[0m\u001b[0;34m)\u001b[0m \u001b[0;32mfrom\u001b[0m \u001b[0;32mNone\u001b[0m\u001b[0;34m\u001b[0m\u001b[0;34m\u001b[0m\u001b[0m\n",
            "\u001b[0;32m/tensorflow-1.15.2/python3.6/tensorflow_core/python/framework/ops.py\u001b[0m in \u001b[0;36mget_controller\u001b[0;34m(self, default)\u001b[0m\n\u001b[1;32m   5477\u001b[0m     \u001b[0;32mtry\u001b[0m\u001b[0;34m:\u001b[0m\u001b[0;34m\u001b[0m\u001b[0;34m\u001b[0m\u001b[0m\n\u001b[1;32m   5478\u001b[0m       with super(_DefaultGraphStack,\n\u001b[0;32m-> 5479\u001b[0;31m                  self).get_controller(default) as g, context.graph_mode():\n\u001b[0m\u001b[1;32m   5480\u001b[0m         \u001b[0;32myield\u001b[0m \u001b[0mg\u001b[0m\u001b[0;34m\u001b[0m\u001b[0;34m\u001b[0m\u001b[0m\n\u001b[1;32m   5481\u001b[0m     \u001b[0;32mfinally\u001b[0m\u001b[0;34m:\u001b[0m\u001b[0;34m\u001b[0m\u001b[0;34m\u001b[0m\u001b[0m\n",
            "\u001b[0;32m/tensorflow-1.15.2/python3.6/tensorflow_core/python/eager/context.py\u001b[0m in \u001b[0;36mgraph_mode\u001b[0;34m()\u001b[0m\n\u001b[1;32m   1631\u001b[0m \u001b[0;32mdef\u001b[0m \u001b[0mgraph_mode\u001b[0m\u001b[0;34m(\u001b[0m\u001b[0;34m)\u001b[0m\u001b[0;34m:\u001b[0m\u001b[0;34m\u001b[0m\u001b[0;34m\u001b[0m\u001b[0m\n\u001b[1;32m   1632\u001b[0m   \u001b[0;34m\"\"\"Context-manager to disable eager execution for the current thread.\"\"\"\u001b[0m\u001b[0;34m\u001b[0m\u001b[0;34m\u001b[0m\u001b[0m\n\u001b[0;32m-> 1633\u001b[0;31m   \u001b[0;32mreturn\u001b[0m \u001b[0mcontext\u001b[0m\u001b[0;34m(\u001b[0m\u001b[0;34m)\u001b[0m\u001b[0;34m.\u001b[0m\u001b[0m_mode\u001b[0m\u001b[0;34m(\u001b[0m\u001b[0mGRAPH_MODE\u001b[0m\u001b[0;34m)\u001b[0m  \u001b[0;31m# pylint: disable=protected-access\u001b[0m\u001b[0;34m\u001b[0m\u001b[0;34m\u001b[0m\u001b[0m\n\u001b[0m\u001b[1;32m   1634\u001b[0m \u001b[0;34m\u001b[0m\u001b[0m\n\u001b[1;32m   1635\u001b[0m \u001b[0;34m\u001b[0m\u001b[0m\n",
            "\u001b[0;31mKeyboardInterrupt\u001b[0m: "
          ]
        }
      ]
    },
    {
      "cell_type": "code",
      "metadata": {
        "colab": {
          "base_uri": "https://localhost:8080/"
        },
        "id": "bVK9bpntqhUO",
        "outputId": "99c999b0-e5e2-4064-fa5c-5f1f5797ace6"
      },
      "source": [
        "gpt2.generate(sess,\r\n",
        "              temperature=0.7,\r\n",
        "              prefix=\"Spider man was about to die\",\r\n",
        "              nsamples=5,\r\n",
        "              batch_size=5,\r\n",
        "              top_k= 40\r\n",
        ")"
      ],
      "execution_count": 8,
      "outputs": [
        {
          "output_type": "stream",
          "text": [
            "Spider man was about to die (no he didn't die, he comes back in Avengers: Infinity War). Tony has to use the Sceptre to close the portal (one Infinity Stone vs. another, but no one knows about these stones yet). Ultron attacks, and Spider-Man defeats Ultron. Tony stabilizes the effects of the Scepter and goes back in time to the beginning.\n",
            "\n",
            "Age Of Ultron: Post Credit Scene\n",
            "We’re shown the Avengers letting Ultron cry while they are distracted by their duty as Avengers. Tony realizes this is about as important as delivering the bomb and prepares to explode the city.\n",
            "\n",
            "Thanos wears the Infinity Gauntlet to his home world of Thanagar and decides that he’s going to personally collect each of the Infinity Stones and take matters into his own hands. He’s also given Loki a Vibranium ring which he plans to use to purchase new weapons.\n",
            "\n",
            "Thanos’ team heads to Vibranium to get their hands on the Tesseract. This is when the real action begins.\n",
            "\n",
            "Agent Phil Coulson, from S.H.I.E.L.D, reports that a massive hammer has been discovered at the bottom of a crater in New Mexico. Yes, Thor’s hammer.\n",
            "\n",
            "Thanos brings Loki and Jane to his home world to collect the hammer. Long story short, the hammer is used battle-tested against Thor, who is now the God of Destruction. Loki kills Thor and the hammer is sent telling Thor to find Thor Sceptre. Thor finds the Sceptre but is unable to find Thor. Back in Asgard, Loki finds out that he’s adopted. While Odin enters his deep slumber, Loki takes over the throne. Thor’s friends don’t like this and convince the gatekeeper of the Bifröst (rainbow bridge transportation thingy), Heimdall, to send them to Earth. Loki gets to know of this and sends the Destroyer (an indestructible metallic being thingy) to Earth to kill Thor.\n",
            "\n",
            "After destroying Thanos and killing Thor, Odin awakens and stops Thor. Loki has asked Odin to send S.H.I.E.L.D deep space out and destroy the place. Thor knows this and sends the Destroyer (an indestructible metallic being thingy) to Earth. Odin awakens and explains to Thor that he and the other Guardians of the Galaxy have been attacked by a goiton. Hulk, teleports violently, and after a while, Thor just doesn’t like this.\n",
            "\n",
            "In the climax of the film, Hulk, who has super speed, is killed by Dr. Strange, a Sorcerer Supreme, and Khans. Bruce Banner, Peter, Thor, Hulk, and Thor are left in their deaths. Bruce contacts S.H.I.E.L.D through S.H.I.E.L.D techs. Thor gets the Sceptre back from Odin and the Destroyer. Bruce uses it to defeat the goiton and takes down the Asgardians. Thor’s friends don’t like this and send Bruce to Earth to face the goiton. At some point in time after the film, Thor is meant to become an Avenger but is rejected by Captain America for this.\n",
            "\n",
            "In the current day, a man named Toomes is hired by Marvel to clear the city of its inhabitants. Peter is given the assignment to locate Toomes. Ego is very angry with Peter for helping Toomes destroy the Ant-Man suit and intends to use all the money Toomes has to get his way. Toomes’s people are attacked, and Peter is forced to sacrifice himself to get to Hela.\n",
            "\n",
            "An army of S.H.I.E.L.D troops arrives at Hela and repels the vengeful Chitauri. Ego is able to use the Sceptre to close the portal (one Infinity Stone vs. another, but no one knows about these stones yet). Over the course of the film, Thanos has a number of engagements against the Avengers. He’s currently protecting Tony and Hela from an invasion by the Ant-Man suit.\n",
            "\n",
            "Tony is able to use the Sceptre to close the portal (one Infinity Stone vs. another, but no one knows about these stones yet). Over the course of the film, Thanos has a number of engagements against the Avengers.\n",
            "\n",
            "Hence, Tony is deployed as a Winter Soldier. He and Tony’s buddy, Ant-Man, goes into outer space to look for their father, Peter, who is dead. Peter believes this might be his father that is bringing the Ant-Man suit to a head. Peter’s dad, an inmate at a Bowery, California, chemical plant, was killed while working for Tony. For his part, Tony touches a\n",
            "====================\n",
            "Spider man was about to die, but Peter tricks him and saves him. Darren shoots Peter and he dies. Darren shows up in 1989 and announces who he is.\n",
            "\n",
            "Reality TV Movie: Darren shoots Spider-Man\n",
            "\n",
            "Reality TV Movie: Bruce goes to India looking for Bruce Wayne because the place is too dangerous. He finds out about Darren going to India but doesn't find out until after the film.\n",
            "\n",
            "Reality TV Movie: Jane goes to India looking for Bruce because the place is too dangerous. She comes across a spider-Man who can use the Internet. She also learns that Bruce is a Sceptre operative. She makes Bruce part of her experiment. She also steals Dr. Selvig's crystal ball. She faces down Darren and says she will send the Tesseract to Earth to be destroyed. Bruce beats her and gets to his hiding place in the woods.\n",
            "\n",
            "Reality TV Movie: Bruce reaches out to Tony to talk about how he got to know of Darren's death. He tells Thor that he knew about Bruce killing Spider-Man and hence wants to know who killed Bruce. Thor tells him who.\n",
            "\n",
            "Reality TV Movie: Thor reads Thor’s obituary and says that he’s dying on Asgard. Thor hands Thor the Tesseract which he plans to drop into space. Just as Bruce is about to open the portal, Thor appears and throws Thor an over-the-top punch. Thor knocks Thor out and puts him on Earth. Bruce is left in peace on Earth.\n",
            "\n",
            "\n",
            "Reality TV Movie: Bruce plays the part of Spider-Man and becomes a citizen. However, due to a small cut on his hands, his blood happens to get into one of the bottles. This bottle eventually causes a death by gamma poisoning and is traced back to Bruce. General Ross and Emil Blonsky want to weaponize the Avengers and want them to take down Ultron. Tony and Bruce agree to drop the Tesseract and fight off the Avengers. The two superpowered men run into one another in the woods and the two of them become best friends.\n",
            "\n",
            "Tony decides to become a full-time Avenger and leads his men on a mission to Sakaar. In Sakaar, the only thing safe is greener pastures. Tony and Bruce use rocket-propelled grenades to set off and en route, and they are attacked by a race of giant, raccoon-like flies.\n",
            "\n",
            "While the two of them are able to fly, they are unable to fly into each other's arms. Bucky, from the previous film, gets shot the baddie role and is struck. In the film, Tony is framed and goes to India to get his hands on a shard of gold. He also gets sucked into an evil energy surge that consumes all of Tony’s energy. Eventually, all the while eating from the cliff face, absorbing its power, and unleashing it. In the film, Tony is able to use the Sceptre to control the energy, and he’s left with only himself to take on the crown.\n",
            "\n",
            "\n",
            "The evil energy consumes all of Tony’s physical strength and he’s left in an unstable ghost state. Struggling to keep up with the advances of the day, Tony’s friends suggest that he’s been searching for a way to defeat the evil energy.\n",
            "\n",
            "Enter Yondu. He wants to harness the power of the dead to empower new generations. He’s been going around impregnating women from various worlds to give birth to a child who would hopefully be able to wield the powers of the Old Gods. He also plans to devour the women’s souls so that no one would be tempted to invade his kingdom. Tony believes that by giving birth to a child who would be able to wield the powers of the Old Gods, he’s bringing about a major change to the world.\n",
            "\n",
            "\n",
            "Tony would like to present the characters he’s been raising as his children.\n",
            "\n",
            "Tony Stark is a successful businessman. He’s been building a mini-machines that can destroy anything that gets in his way. One day, though he’s not an engineer, he’s going to get his hands on a better way to attack the Dark World.\n",
            "\n",
            "Tony Stark is a man of few words. A loudmouth. A massive hypocrite. He’s also been building a miniaturized version of himself called Captain America’s Cap Stand. Basically, he’s been building a miniaturized version of himself called the Cap Backpack. Basically, he’s been stealing stuff from the Avenger’s desk. Basically, he’s become a full-time Avenger and wants to keep spending his free time. He also wants to keep stealing things from people who need his money. Basically, Tony is going to have his fingers bloodied up once\n",
            "====================\n",
            "Spider man was about to die, but Banner offered his life in a final showdown. Thor sacrifices himself by giving up his super-powered suit. The remaining survivors of the Avengers descend upon Earth to overthrow the Vulture family. Cap and Thor team together as the Avengers and fight off the forces of Hydra. Thor’s friends realize that Thanos was right and block his way. Loki, who had been plotting a return to Asgard, has been posing as Odin and stealing from humanity. After a while, Thor’s friends realize that Odin is actually a Vulture.\n",
            "The Avengers retrieve the Tesseract (Space Stone) from Thanos. Iron-Man and Wanda are arrested for scheming to attack Odin. Thanos is successful in breaking into the Avengers headquarters and stealing the Tesseract. Wanda escapes with the Tesseract and heads to the Tesseract to steal a piece from a diner. Iron-Man and Wanda fight and defeat Thanos and the Avengers. Odin awakens and reveals that Loki is indeed Loki—a mighty being who has a simple solution to over-population.\n",
            "Long story short, the Avengers capture Thanos, blow up the Vulture plane, and land him on Earth. Loki uses the Tesseract to open a portal and the Chitauri’s army. Iron-Man and Wanda fight and defeat the Avengers and Thanos. Iron-Man finally gets to Odin. Odin says to him once in his whole life, \"I will not give up hope\". Odin awakens and reveals to the world that Thanos has been posing as Odin and taking over real estate in Skrulls (rainbow universe). Odin explains to Thor how he came to be here and that he’s given the Earth by nature a bad rap. Thor reveals to the world that Thanos has been stealing from the Skrulls (rainbow universe). Odin explains to Thor how he’s raised by Skrulls men and that he gets a small part in bringing about this. Thanos is successful in bringing Thor to this point and blows up the Chitauri home planet. Thor teams with the Avengers to stop Thanos and the Chitauri army defeats Thor😙s home planet sucks. Loki commits suicide by letting himself fall off a cliff and at the end of the film, he’s back in the Chitauri territory.\n",
            "\n",
            "\n",
            "The remaining survivors of the Avengers land up on Earth, seek a new life andare found Dr. Bruce Banner (human-shaped metal suit), Bucky,ress, and Dr. Selvig. They are led by Cap who is now the Iron Man. They are also led by Wanda. The present day Tony is awed by the world has turned for the better and announces a major shake-up at the company. Over the course of his presidency, Tony has failed to deliver on multiple legislative priorities. As a result, a reorganization is announced that will eliminate many of the many divisions within the company. The new initiative is called The Sceptre Initiative and it is a massive shake-up for the company.\n",
            "\n",
            "Tony is confronted by Black Panther who reveals that in addition to his regular people, Tony has also been dealing with various WMD dealers. At a meeting, Tony is forced to admit that he’s not the only one dealing with these dealers. Bucky also happens to see this and makes Tony a part of his deal. The two of them form a team and face off in a battlefield. Team Iron Man, which is called the Thunder, is the better, and they fight. Tony defeats Team Man and the team—which includes Tony- Page—isher up the rocket. Team Iron Man collect the Sceptre which gives them super-human strength. They are able to lift people. Iron-Man realizes this and tricks Tony by letting him into the rocket. The rocket goes into a subatomic state and goes into slumber. Tony is unable to go back to being Tony. Dr. Selvig begins work on a new inhibitor, the Sceptre. While it’s not an inhibitor yet, it’s a step in the right direction.\n",
            "\n",
            "In the flow of the fights in this film, each of the teams is given a shot at victory. Team Iron Man take on the Wasp. Tony is able to use his new Sceptre to control minds and objects. Team Rocket Man use a smaller version of the Sceptre to control themselves. Team Rocket Man are separated into three factions: the Light, the Red, and Yellow.\n",
            "\n",
            "The game is set in an alternate timeline. In it, a kingdom is ruled by a man called Hydra. Nick Fury visits this kingdom to talk with King Klaue and learn that Hydra has captured Queen Ego. Klaue agrees to hand over all the crown jewels to Hydra. The kingdom is given the crown by Queen Ego. Hydra leader Richard Rhodes joins the rebellion and destroys the\n",
            "====================\n",
            "Spider man was about to die. Peter tricks him into taking down Ultron and gets to the point. Vision asks Captain America if they can get back to Cap. Cap says he can. But Peter steals the Vision from the vault. Cap deactivated the Dark Dimension-Suit and saves Cap.\n",
            "\n",
            "\n",
            "Weeks pass. Eventually, S.H.I.E.L.D realizes that Ultron was indeed Programmed to Eleven's death. It is up to S.H.I.E.L.D to figure this out.\n",
            "\n",
            "Doctor Strange is a paraplegic whose low-power, low-altitude home computer (HDC) causes him to lose his control. Through experimentation, Dr. Strange learns that his PCB actually is his brain. He gets the help of Dr. Strange, Dr. Natasha, and Wong (the Black Panther) to get a piece of Dr. Strange's code. The two of them go to the Overworld to get it, but are interrupted by Natasha who shows up and blows up the Overworld. She also blows up the Bucky Constructive Unit. Tony is able to get the Bucky back to life. Dr. Strange, Dr. Natasha, and Wong (the Black Panther) get the key to the Bucky-Suit. The Overworld is saved for the day.\n",
            "\n",
            "Doctor Strange plays an episode of Stargate Atlantis on his TV. The characters in the episode are Dr. Selvig and Selvig’s daughter. The episode is about the birth of S.H.I.E.L.D’s daughter, Hope. Six months pass.\n",
            "\n",
            "In the present day, an evil man by the name of Darren Cross is building a replica of the Ant-Man suit. This suit allows him to shrink down to the size of an ant but gain strength in inverse proportion. Basically the smaller you get, the more powerful you become. Basically, you get smarter. Basically, you get stronger. Basically, you get smarter. Basically, you get more powerful. Basically, you get stronger.\n",
            "\n",
            "Because of his shrinking, Ant-Man and Black Panther’s minds are turned into miniature Ant-Man suits, Darren Cross is able to use the Sceptre to control Black Panther’s consciousness. Basically, he gets sucked into an endless loop of infinity. Eventually, all the Infinity Stones (Reality Stone) become unavailable and Black Panther is left stranded on Earth.\n",
            "\n",
            "When Black Panther wakes up, he doesn’t see himself as the Ant-Man. He imagines himself as the leader of a race called Man. However, unlike Tony, Black Panther doesn’t seem to care about anything besides the betterment of the world.\n",
            "\n",
            "After the events of Civil War, Ant-Man returns to Wakanda to become the leader of a newly formed government. He faces Mantis and Dr. Octavius and defeats them all but gets the upper hand. After this, Tony gives him the Bifröst mask so that he can sneak around with. Tony also gives him the Mantis suit to look like an old man.\n",
            "\n",
            "At a party, Black Panther gets into an argument with the leader and cuts off his way out. Nick Fury joins the fight and defeats Black Panther and kidnaps Pepper. Nick uses the Bifröst to lift Tony’s head, and he becomes king. He also gives Pepper a pacemaker to power her heart rate. Tony finally gets to Pepper. She begins to cry and suffers from a meningitis-like effect. Tony makes her drink Heroin and AZTEC to subdue her. At a party, Black Panther and Pepper are talking and Pepper gets into a brawl. During the fight, Pepper gets sucked into an apparently out-of-control wormhole. Before she can die, Tony has her use the Bifröst. Pepper begins losing her mind. Nick enters the fray, and Pepper sucks her way out. Before she can get to his armored suit, he has captured her and she must be killed.\n",
            "\n",
            "At a hotel, Pepper is having panic attacks. Tony asks Nick to take her to the doctor so that they can figure out a way to separate the chemicals in her blood. The next day, Pepper makes a public appearance in Civil War wearing the bandanna over her left eye. She protests, but Tony says she’s for real. She becomes the leader of her people and takes over the throne. She also releases a pheromone that causes panic attacks. Nick and Pepper try to get the pheromone back but are unable to. Tony realizes that she’s some sort of Mind Trickster. She decides to merge all the kryptonite she has into one goo.\n",
            "\n",
            "In the climax of the film, Carol is working as a temp in a Washington, DC based company. Six years pass. Nick Fury talks to Captain America, who says that he\n",
            "====================\n",
            "Spider man was about to die but somehow gets saved by Captain America. Tony realizes Cap was right and saves Cap. Then there is Thor who not only saves Cap but also gives Thor the Pager-Boy helmet. Thor steals Thor’s hammer and prepares for battle. Odin takes over Asgard and the two of them fight. Odin blows up the Bifröst and the Bifröst destroy Asgard. Thor retrieves Cap who has become the new Winter Soldier.\n",
            "\n",
            "In Asgard, Bucky meets Thor who tells him about his mission. Bucky agrees to help. Thor meets with Ulysses Klaue, a S.H.I.E.L.D agent, and reports that S.H.I.E.L.D has been infiltrated by Hydra. Long story short, the Avengers fight off a terrorist organization called the Avengers and defeat them. Iron Man and Wanda are left standing as they have too many terrorists. Shuri is the one who’s dying. Tony, Wanda, Thor, reveals the source of the problem and Iron Man. Wanda reveals that of the Avengers survivors, only Thanos is worthy. Iron Man attacks Thanos alone, claiming the Iron Man shield and beating him.\n",
            "\n",
            "Thanos appears and uses the Ant-Man suit to lift Tony’s hands. The two of them fight, and Tony picks up where his mother left off. Thanos is able to use the Sceptre to shrink down to the size of his hands. As a result, unlike Cap, he doesn’t get into a brawl.\n",
            "\n",
            "Tony gets found by his friend Colonel James Rhodes and begins work on a more portable version of the Sceptre. We are then introduced to Wanda. She tells Tony that she’s dying and the Avengers will kill her father. Tony declines the offer. Wanda displays no emotion and walks away.\n",
            "\n",
            "\n",
            "In the flow of the films, this scene pertains to the event from Infinity War. We’ll get back to this later.\n",
            "\n",
            "\n",
            "Before we go into the film, we want to make clear that this is not an easy film to make. Over the course of the film, we’re given information that an event called the Dark Dimension is actively being controlled by a man called Thanos. This man, Thanos, gains access to a technique called Sceptre Replicator Time Turnering. This Sceptre allows Thanos to access the latest in technology. Through the course of the film, we are shown that Thanos has been able to communicate with the relaunched Tesseract, which is being controlled by Thanos.\n",
            "\n",
            "This is called Sceptre Augmentation. Basically, it’s a step beyond anything we have now. In this film, we are shown that a being called Thanos has captured and used the consciousness of a human being to control another. This being called Thanos Malek is the keeper of the Bifröst. Loki is leading an army to the surface and is urging J.A.R.V.I.S. to take down the Tesseract first. To do this, Loki takes over S.H.I.E.L.D and it’s a matter of when.\n",
            "\n",
            "\n",
            "After the events of Civil War, T’Challa returns to Wakanda to become king. He faces M’Baku in ritualistic combat to the death and defeats T’Challa but doesn’t want to kill him. T’Challa is then offered the crown by T’Challa. T’Challa gives T’Challa the crown back and the two of them fight, and ultimately die, making T’Challa the ruler. T’Challa is reborn as the Chitauri.\n",
            "\n",
            "\n",
            "T’Challa is able to control minds using the Sceptre. He uses this to control J.A.R.V.I.S and plans to harness J.A.R.V.I.S’ powers to create weapons worthy of the Sceptre. T’Challa is ultimately successful in creating a new species, Vibranium, and plans to use them to fight Vibranium-89. T’Challa uses the Vibranium to become a powerful being and seeks to harness the powers of the Old Gods to become a mighty being. Vibranium’s power causes it to lose its power and become unstable, losing its shape and turning black. T’Challa is able to control the flow of time and energy using the Time Stone. Through the course of their fight, T’Challa and Vibranium have become friends. T’Challa can see Vibranium using the Time Stone to darken the world in which it dwells, and believes that the world will eventually know the identity\n",
            "====================\n"
          ],
          "name": "stdout"
        }
      ]
    },
    {
      "cell_type": "code",
      "metadata": {
        "colab": {
          "base_uri": "https://localhost:8080/"
        },
        "id": "8kJsF8DZy8cd",
        "outputId": "7357725c-b6c7-4f82-9552-f1a976c0ea2c"
      },
      "source": [
        "gpt2.generate(sess,\r\n",
        "              temperature=0.7,\r\n",
        "              prefix=\"Spider man was about to die\",\r\n",
        "              nsamples=5,\r\n",
        "              batch_size=5,\r\n",
        "              top_k= 40\r\n",
        ")"
      ],
      "execution_count": 11,
      "outputs": [
        {
          "output_type": "stream",
          "text": [
            "Spider man was about to die, but Peter tricks him into letting him die by letting him die in peace. Peter remembers this event and forgives Peter. Hulk joins the Avengers and kills Hulk. Ant-Man and Spider-Man fight as usual but use the Bifröst to their full power to get rid of Hulk. They are interrupted by a Nazi officer named Captain America who appears and says that he is a member of the 9/11 Team.\n",
            "\n",
            "Hulk explains to them that he is a Hydra agent and plans to use the Bifröst to stop them. Iron-Man, Vision, Thor, Hulk, and Dr. Selvig fight as usual but use the Bifröst to their full power to get rid of Hulk. Captain America sacrifices himself by letting Hulk die, and Hulk comes back stronger than ever. Cap and Falcon fight as usual but use the Bifröst to their full power to get rid of Hulk.\n",
            "\n",
            "The Avengers attack the Bifröst but have their asses handed to them by Wanda and/or Vision. Iron-Man and Wanda's forces are overwhelmed and are driven out of the city. Black Panther and Captain America rescue Black Panther but are unable to get to Black Panther Bucky. Vision comes to the rescue and saves Black Panther by not delivering on his promise. Black Panther explains to the Avengers that they can kill off half the population but they need to get to half of the Avengers. The Avengers agree to this and the Bifröst are destroyed. As a result, Black Panther Bucky emerges from the rubble and becomes the new Captain America.\n",
            "\n",
            "The Avengers attack the Bifröst but have their asses handed to them by Wanda and/or Vision. Cap and Falcon fight as usual but use the Bifröst to their full power to get rid of Hulk. Captain America sacrifices himself by letting Hulk die, and Hulk comes back stronger than ever. Iron-Man, Vision, Thor, Hulk, and Dr. Selvig fight as usual but use the Bifröst to their full power to get rid of Hulk.\n",
            "\n",
            "The Avengers attack the Bifröst but have their asses handed to them by Wanda and/or Vision. Cap and Falcon fight as usual but use the Bifröst to their full power to get rid of Hulk. Iron-Man, Vision, Thor, Hulk, and Dr. Selvig fight as usual but use the Bifröst to their full power to get rid of Thor.\n",
            "\n",
            "The Avengers attack the Bifröst but have their asses handed to them by Wanda and/or Vision. Cap and Falcon fight as usual but use the Bifröst to their full power to get rid of Thor. Iron-Man, Vision, Thor, Hulk, and Dr. Selvig fight as usual but use the Bifröst to their full power to get rid of Ultron. Iron-Man, Vision, Thor, Hulk, and Dr. Selvig fight as usual but use the Bifröst to their full power to get rid of Ultron.\n",
            "\n",
            "The Avengers attack the Bifröst but have their asses handed to them by Wanda and/or Vision. Iron-Man, Wanda, and Vision, fight as usual but use the Bifröst in combat.\n",
            "\n",
            "Tony Stark is free to go. Hulk, Spider-Man, and a few other mutants are sold as potential buyers. Tony is shown delivering on his promise to the Quiverfull. The Quiverfull sell mutants for gold and silver and for interplanetary travel. Tony also gives the Quiverfull access to a quantum entanglement cloak.\n",
            "\n",
            "The Avengers attack the Bifröst but have their asses handed to them by Wanda and/or Vision. Iron-Man, Wanda, and Vision, fight as usual but use the Bifröst in combat.\n",
            "\n",
            "Tony Stark is free to go. Hulk, Spider-Man, and a few other mutants are sold as potential buyers. Tony is shown delivering on his promise to the Quiverfull. The Quiverfull sell mutants for gold and silver and for interplanetary travel. Tony also gives the Quiverfull access to a quantum entanglement cloak. Iron-Man, Wanda, and Vision, fight as usual but use the Bifröst in combat.\n",
            "\n",
            "The Avengers attack the Bifröst but have their asses handed to them by Wanda and/or Vision. Iron-Man, Wanda, and Vision, fight as usual but use the Bifröst in combat.\n",
            "\n",
            "Tony Stark is free to go. Hulk, Spider-Man, and a few other mutants are sold as potential buyers. One day, Iron Man and Cap will cross paths. Iron Man would like to build an advanced suit for Cap; Cap. Cap hands Tony\n",
            "====================\n",
            "Spider man was about to die. Bruce sacrifices himself by not firing a shot. Instead, he finally gets to see Peter. This is how Peter Parker feels about Peter:\n",
            "\n",
            "\"Peter, how can you be worthy of this? Because you have saved countless lives by helping the people of Earth. I want to see you grow as a person and become a better Man. Yes, Captain America. Yes, Iron Man. Yes, Rocket Man. Yes, Black Panther. Yes, Butch Vandal. Yes, Butch Witherspoon. Yes, Butch Witherspoon (Black Panther). Yes, Butch Longshot (Black Panther). Yes, Butch Witherspoon (Butch Witherspoon).\n",
            "\n",
            "Because of you, we can see Cap giving Peter a small dose of the Vision serum. This is how Peter Parker feels about Cap:\n",
            "\n",
            "\"Remember when Peter was a kid he was a villain? He attacked you. He tried to blow up New York. Cap gets to know of this and saves Peter.\n",
            "\n",
            "Because of you, we have a new face to the Cap family. This time, we are Thanos.\n",
            "\n",
            "Thanosos is a mighty God who has a simple solution to over-population – randomly kill off half the universe so the survivors will have a better chance of .. well, surviving. For this, he needs to collect all six infinity stones, put it on his infinity gauntlet, and snap his fingers.\n",
            "\n",
            "Before the event, Thanos had a simple solution to overpopulation – randomly kill off half the universe so the survivors will have a better chance of .. well, surviving. For this, he needs to collect all six infinity stones, put it on his infinity gauntlet, and snap his fingers. Before the event, Thanos had a set of alternate powers. First, Thanos is able to use the Eye Of Agamotto (Time Stone) to bend time. In a straight line, he does. Second, unlike the other Guardians of the Galaxy, Thanos can see the future.\n",
            "\n",
            "Thanosos is a mighty God who has a simple solution to overpopulation – randomly kill off half the universe so the survivors will have a better chance of .. well, surviving. For this, he needs to collect all six infinity stones, put it on his infinity gauntlet, and snap his fingers. Before the event, Thanos has a simple solution to overpopulation – randomly kill off half the universe so the survivors will have a better chance of .. well, surviving. For this, he needs to collect all six infinity stones, put it on his infinity gauntlet, and snap his fingers. After the event, Thanos wears the Infinity Gauntlet and decides that he will personally take over the universe and destroy it.\n",
            "\n",
            "Thanosos is a mighty God who has a simple solution to overpopulation – randomly kill off half the universe so the survivors will have a better chance of .. well, surviving. For this, he needs to collect all six infinity stones, put it on his infinity gauntlet, and snap his fingers. Before the event, Thanos has a simple solution to overpopulation – randomly kill off half the universe so the survivors will have a better chance of .. well, surviving. For this, he needs to collect all six infinity stones, put it on his infinity gauntlet, and snap his fingers. After the event, Thanos sacrifices himself to protect Peter who has been brainwashed. Seeing as how Peter is a boy, Peter gains powers similar to Cap's. Thus begins the process of super-powered adulthood.\n",
            "\n",
            "Thanosos is a mighty God who has a simple solution to overpopulation – randomly kill off half the universe so the survivors will have a better chance of .. well, surviving. For this, he needs to collect all six infinity stones, put it on his infinity gauntlet, and snap his fingers. Before the event, Thanos has a simple solution to overpopulation – randomly kill off half the universe so the survivors will have a better chance of .. well, surviving. For this, he needs to collect all six infinity stones, put it on his infinity gauntlet, and snap his fingers. After the event, Thanos sacrifices himself to protect Peter who has been brainwashed. Seeing as how Peter is a boy, Peter gains powers similar to Cap's. Thus begins the process of super-powered adulthood.\n",
            "\n",
            "Thanosos is a mighty God who has a simple solution to overpopulation – randomly kill off half the universe so the survivors will have a better chance of .. well, surviving. For this, he needs to collect all six infinity stones, put it on his infinity gauntlet, and snap his fingers. Before the event, Thanos sacrifices himself to protect Peter who has been brainwashed. Seeing as how Peter is a boy, Peter gains powers similar to Cap's. Thus begins the process of super-powered adulthood.\n",
            "\n",
            "Peter resumes his normal life after the event and begins searching for his dad. As\n",
            "====================\n",
            "Spider man was about to die, but Peter tricks him by letting him die by absorbing his energy. Seeing this, Peter realizes that he’s the one who’s dying.\n",
            "\n",
            "Peter resumes school but prepares for college in a failed attempt to become a full-time Avenger. He meets Peter’s old friend, Wanda, and they form a family. Peter gets a job as a waiter at a Chinese restaurant and builds his own restaurant. While working as a waiter, Peter encounters Red Skull who’s now the leader of the Valkyrior. As a result, they fight frequently in the restaurant. Seeing this, Peter decides to become a warrior and takes Red Skull with him. The two of them fight, and become best friends. During the fight, Red Skull touches Peter’s eye causing him to lose it and becomes super-powered. Peter is able to see into the future and says that he would like to use his super-powered strength to build a home for himself and his family.\n",
            "\n",
            "In the present day, an evil man by the name of Darren Cross is building a replica of the Ant-Man suit, called the Yellow Jacket, and wants to sell it to Hydra. Long story short, the evil man uses the Internet to get ahold of Cross and kills him. Seeing this as a chance to gain favor with the people, the evil man hands over the suit to the people’s inspector, Carol.\n",
            "\n",
            "After the events of Civil War, Iron Man is placed under house arrest. For being a bit too lenient, Iron Man exhibits signs of natural aging. He gets better and better at carrying himself; he’s gotten smaller, spinnier, and gets a bit more agile. He also wears a bit more of a mask, this time made of metal.\n",
            "\n",
            "In the current day, a massive chunk of the universe is covered in terraforming energy. One such terraformation is called Palos Hills. Before the universe was dark, a race called the Dark Elves ruled in the olden times. Now, a race called the Light Elves are still around, and they use the Malekith to turn the light into weapons.\n",
            "\n",
            "The Light Elves are evil, and want to destroy all of Asgard. Thor teams with the other Dark Elves to stop the Malekith and the other Valkyries. They also have Surtur, their uncle, and Loki who are the key to the Malekith. Thor’s friends also learn about Loki’s plans when he learns about Loki’s plan to take over the kingdom.\n",
            "\n",
            "Long story short, the Asgardians have a massive event going at once to stabilize the universe and kill off half the universe, and to stabilize the universe in general. Loki, who is a Titan, gets his hands on the Mind Stone, the source of his powers. He intends to harness the power of the multiverse to create a better, more worthy person. Thor beats up Loki and takes off across the universe trying to get the Mind Stone. Nothing happens. Thor’s friends keep on trying to get the Mind Stone. Eventually, Loki reaches out to Thor and the two of them get into a brawl. The hammer is taken from Thor and the world is plunged back into darkness.\n",
            "\n",
            "The Asgardians have to retreat to Helgen, Norway, where they have a massive operation going at their own pace.\n",
            "\n",
            "The Asgardians are successful in breaking free of the Mind Stone, they also have a hostage taking on Titan. Titan is unstable and is killing everyone he meets. Thor teams with the other Asgardians to get Thor’s hands on the Mind Stone. Loki is on Titan believing he’s going to get a kingdom. Loki butts in the woods and the hunters come by and kill Loki. Titan’s leader, Baka, sends Surtur to retrieve the Mind Stone.\n",
            "\n",
            "Titan’s leader, Baka, sends Surtur to retrieve the Mind Stone. Loki is on Titan believing he’s going to get a kingdom. Loki butts in the woods and the hunters come by and kill Loki. Titan’s leader, Baka, sends Surtur to retrieve the Mind Stone.\n",
            "\n",
            "The two of them land on Titan, they have a chat and decide to head to Titan. Baka is wrong and Loki is on Titan. Thor and Titan head to Hela, only to realize they are interrupted. They head to Titan, Loki is on Titan, and they have a mighty showdown. Titan has a mighty telekinesis suit which allows it to crush all life on the place. As a result, Titan devours all of Loki’s missiles. Thor and Titan head to the Tesseract, where they found the Mind Stone. They have a massive showdown at the end. The two of them get into an argument and realize that no one can control them minds. They have to be\n",
            "====================\n",
            "Spider man was about to die, but Peter tricks him into letting him die by letting him die in peace. Thor sacrifices himself by letting go of Thor’s mask and gets to know Peter well. The two of them form a family called the Asgardians. The family are peaceful, kind, kinder to each other, and have a simple one-word answer: no evil.\n",
            "Peter is raised by his dad in a strict religious family. As a child, his dad killed his mother. For this, he and his sister go to India to become a full-time warrior. One day, Peter is sent to India to die, but dad forgives him and joins the army. As a result, his dad becomes the ruler. He uses the Sceptre to turn into an evil-golem and destroys the Asgardians. Peter’s dad is unable to bear the loss of his son. He joins the Avengers and takes on the throne. Tony is able to use the Sceptre to turn back the other way. Peter & Tony are arrested, but Peter uses the Scepter to turn back the other way. Back in New York, Tony announces the Avengers would be bringing Thor and Loki to the Winter Tower to be interred in peace.\n",
            "Thor’s hammer is enchanted such that only the worthy can wield it. Because of his heritage, Thor gets given the title of King of Asgard. Because of this, Thor gets tattooed on the back of his neck. This is called Asgardian Sceptre-Thrall’s power. Because of this, Thor gets sucked into the realm where Thor’s hammer is kept. While the hammer is found by S.H.I.E.L.D, Thor is able to access it. Now, remember Thor is the son of Odin and an arrogant God? Because of this, Thor gets reborn in the realm after Thor’s hammer. This is called Asgardian Sceptre-Thrall’s power. Because of this, Thor gets given the title of King of Asgard. Because of this, Thor gets married to S.H.I.E.L.D’s (formerly Mother Earth) Aang (formerly Mind Stone) and has an affair with Klaue. Through his wife, Loki, Aang gets involved in a feud with Thor. Because of this, Thor gets separated from his hammer. While he’s able to access the power of his hammer, he gets lost in the realm. While he’s able to reach Thor he doesn’t like seeing him. Instead, Thor helps by bringing Thor to Asgard to learn of the real Aang’s powers.\n",
            "While Thor gets to know of the real Aang’s powers, he declines the offer to become a hero and joins the Resistance. He believes that by helping the people of Earth rise up against their oppressors, they can end their oppressors name. Thor pursues Aang who’s the one who’s been killing Thor. After a while, Thor meets with Baron Wolfgang von Strucker who states that he’s going to personally draw the inspiration for the current Spider-Man movie. Thor gets this information from Baron Wolfgang.\n",
            "While Spider-Man is on its way to getting its Spider-Man suit, a man named Ross is looking for a way to get inside of of of it. Spider-Man is struck by a metallic being, and begins search for the source.\n",
            "\n",
            "Spider-Man meets with Dr. Selvig who claims that the Spider-Man suit is unstable. Peter is able to use it to lift objects. This suit allows him to see into the future. Ross believes this to be the source of the Spider-Man powers. Nick is able to use the suit to override all the other Sceptres. He also steals Dr. Selvig’s mind and begins searching for a way to control the other Mind Stone. He’s also discovered a way to communicate with the other Mind Stones. This means that whoever is controlling the Mind Stone can use it to override all the other Sceptres.\n",
            "\n",
            "The remaining Mind Stone is left unturned and it’s up to Ross to get the other Mind Stones. He does so by breaking the Mind Stone and stealing Dr. Selvig’s mind. Ross uses the Mind Stone to open a portal and the other Mind Stones are released. Ross focuses his attention on Ross who activates the other Mind Stone. The remaining Mind Stone is left in the realm it was kept in before it was destroyed.\n",
            "\n",
            "After the events of Civil War, Peter resumes school but focuses on crime-fighting with his new Spider-Suit from Nick. He also gets his start as a police officer.\n",
            "\n",
            "Peter is a reckless adult who takes unnecessary risks and takes on the consequences. He is a reckless man who takes on the consequences himself. He is a reckless man who commits\n",
            "====================\n",
            "Spider man was about to die. Peter tricks him into letting him die, and he does. Seeing this event, Spider-Man, Hulk and Hawk-Eye become super heroes.\n",
            "Hank Pym is a scientist who has been studying the Tesseract. Six years ago, she was kidnapped by a race called the Dark Elves and is said to be hiding within the depths of the Multiverse. Long story short, a race called the Lightsworn have been stealing from the Aether and turning it into energy. In one of their rituals, they sacrifice their own lives to become Lightsworns. While they are Lightsworns, Peter is. is given the key to the Aether Room. To open this realm, Peter has to get into the Aether Chamber and get its power. He does this by absorbing the Aether and turns into a Vibrani. The Lightsworn cry for help and destroy the Aether Chamber. They then devour Peter. This eventenses Peter with the ability to see the Aether and the Vibrani. As a result, they devour Peter.\n",
            "Age Of Ultron: Post Credit Scene\n",
            "We’re shown the Asgardians giving the Tesseract information that could lead to a suit such as this one. Iron-Man, Captain America, Thor, and a Cyborg.\n",
            "\n",
            "Nick Fury talks to Captain America, who is working on a suit similar to the Iron Man one.\n",
            "\n",
            "The event that begins in Wakanda and continues into the present day in Xandar is called the Convergence. It is a massive event that involves the universe and all of its various sides. Gamora and Rocket, for example, are reborn in the future. They are not heroes, but rather people who have lost their minds. They are called Mantis. Gamora is observant and Rocket is trouble. Iron-Man and Thor, the representatives of the Xandar government, are in Wakanda to talk to S.H.I.E.L.D.\n",
            "\n",
            "The present executive in charge of Wakanda asks Tony to lead a team that’s made up of humans, half-elves, and half-elves. They will head to Earth after the events of Civil War to face their new leader, Thanos.\n",
            "\n",
            "Tony is confronted by Thanos who states that he’s going to send his men to Earth to kill Gamora and Rocket. Gamora and Rocket agree and head to Earth only to realize that they are attacked by an unknown person.\n",
            "\n",
            "The team is able to use the Sceptre to close the portal and the Sceptre-Grenade weaponizes the Thanos quote. Tony is forced to use the Sceptre exclusively to close the portal and the weaponizes Gamora and Rocket instead. Tony is arrested, and in the Nova Corp prison, Spider-Man, Ellen Page, and a robot named Groot (pronounced \"Grimm\") are held against their will.\n",
            "\n",
            "After the events of Civil War, Peter resumes school but focuses on crime-fighting with his new Spider-Suit from Tony. He is a young man who has a simple thing to say to his friends.\n",
            "\n",
            "Peter dawns his new Spider-Suit with the words, \"I’ll’t kill you.\"\n",
            "\n",
            "The remaining survivors of the Avengers (formerly the Winter Soldier) set out on their own path and face off against the Avengers. Tony is able to use the Sceptre to close the portal and the Sceptre-Grenade weaponizes Groot instead. Groot manages to get to the Avengers and defeats them. Tony’s Spider-Man and Red Skull (Tony Stark) who tag along. The fight continues as Spider-Man and Red Skull run into each other. Tony is arrested, and in the Nova Corp prison, Spider-Man is with them because he’s dying.\n",
            "\n",
            "At some point in time after the events of Civil War, a race called the Chitauri are on Earth claiming the Infinity Stones. The stones allow the wielder to control matter. When a being called a Chitauri Warrior approaches the World Tree to share the information about the Rings, he or she is subject to the mind control. For this, the being will have to be reminded.\n",
            "\n",
            "The following is a brief synopsis of the episode.\n",
            "\n",
            "Tony and Nebula, the Chitauri, have a small talk. Tony says to himself, \"What the f--- are they talking about?!\" Nebula says to Tony, \"I don’t want to bother them.\"\n",
            "\n",
            "Quill, the lost child, overhears the conversation and decides to help. Forcing the Chitauri to fight each other is a good idea, because Quill’s eye sees the return of Yondu. He helps Yondu get the Tesseract (Space Stone) that’s holding him back. The two of them head to the Chitauri\n",
            "====================\n"
          ],
          "name": "stdout"
        }
      ]
    }
  ]
}