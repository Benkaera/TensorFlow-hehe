{
  "nbformat": 4,
  "nbformat_minor": 0,
  "metadata": {
    "colab": {
      "name": "Untitled0.ipynb",
      "provenance": [],
      "authorship_tag": "ABX9TyO8dJ1+pMaiKmG46OkVNCar",
      "include_colab_link": true
    },
    "kernelspec": {
      "name": "python3",
      "display_name": "Python 3"
    },
    "accelerator": "GPU"
  },
  "cells": [
    {
      "cell_type": "markdown",
      "metadata": {
        "id": "view-in-github",
        "colab_type": "text"
      },
      "source": [
        "<a href=\"https://colab.research.google.com/github/Benkaera/TensorFlow-hehe/blob/main/Untitled0.ipynb\" target=\"_parent\"><img src=\"https://colab.research.google.com/assets/colab-badge.svg\" alt=\"Open In Colab\"/></a>"
      ]
    },
    {
      "cell_type": "code",
      "metadata": {
        "id": "TxHIReoLa-e6"
      },
      "source": [
        "%tensorflow_version 1.x\r\n",
        "!pip install gpt-2-simple\r\n",
        "import gpt_2_simple as gpt2"
      ],
      "execution_count": null,
      "outputs": []
    },
    {
      "cell_type": "code",
      "metadata": {
        "id": "Xt2R-JcVkzBO"
      },
      "source": [
        ""
      ],
      "execution_count": null,
      "outputs": []
    },
    {
      "cell_type": "code",
      "metadata": {
        "id": "NslGD4v7jJRx"
      },
      "source": [
        "gpt2.download_gpt2(model_name=\"124M\")"
      ],
      "execution_count": null,
      "outputs": []
    },
    {
      "cell_type": "code",
      "metadata": {
        "id": "L_x9WCQVltDd"
      },
      "source": [
        "file_name = \"marvel.txt\""
      ],
      "execution_count": null,
      "outputs": []
    },
    {
      "cell_type": "code",
      "metadata": {
        "id": "n6NCTxRAmElm"
      },
      "source": [
        "sess = gpt2.start_tf_sess()\r\n",
        "\r\n",
        "gpt2.finetune(sess,\r\n",
        "              dataset=file_name,\r\n",
        "              model_name='124M',\r\n",
        "              steps=200,\r\n",
        "              restore_from='fresh',\r\n",
        "              run_name='run1',\r\n",
        "              print_every=10,\r\n",
        "              sample_every=20,\r\n",
        "              save_every=20\r\n",
        ")"
      ],
      "execution_count": null,
      "outputs": []
    },
    {
      "cell_type": "code",
      "metadata": {
        "id": "jsh3G3OeqaLQ"
      },
      "source": [
        "gpt2.generate(sess, run_name='run1')"
      ],
      "execution_count": null,
      "outputs": []
    },
    {
      "cell_type": "code",
      "metadata": {
        "id": "bVK9bpntqhUO"
      },
      "source": [
        "gpt2.generate(sess,\r\n",
        "              temperature=0.7,\r\n",
        "              prefix=\"Spider man was about to die\",\r\n",
        "              nsamples=5,\r\n",
        "              batch_size=5,\r\n",
        "              top_k= 40\r\n",
        ")"
      ],
      "execution_count": null,
      "outputs": []
    }
  ]
}