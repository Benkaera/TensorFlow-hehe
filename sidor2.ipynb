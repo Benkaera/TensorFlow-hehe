{
  "nbformat": 4,
  "nbformat_minor": 0,
  "metadata": {
    "colab": {
      "name": "sidor2.ipynb",
      "provenance": [],
      "authorship_tag": "ABX9TyMKisG/5BF+Ad4wqWkcvwzt",
      "include_colab_link": true
    },
    "kernelspec": {
      "name": "python3",
      "display_name": "Python 3"
    },
    "accelerator": "GPU"
  },
  "cells": [
    {
      "cell_type": "markdown",
      "metadata": {
        "id": "view-in-github",
        "colab_type": "text"
      },
      "source": [
        "<a href=\"https://colab.research.google.com/github/Benkaera/TensorFlow-hehe/blob/main/sidor2.ipynb\" target=\"_parent\"><img src=\"https://colab.research.google.com/assets/colab-badge.svg\" alt=\"Open In Colab\"/></a>"
      ]
    },
    {
      "cell_type": "code",
      "metadata": {
        "colab": {
          "base_uri": "https://localhost:8080/"
        },
        "id": "xWESxyyP3g9f",
        "outputId": "8832d4d3-a995-408c-85a7-efee26d6fbb2"
      },
      "source": [
        "%tensorflow_version 1.x\r\n",
        "!pip install gpt-2-simple\r\n",
        "import gpt_2_simple as gpt2"
      ],
      "execution_count": 3,
      "outputs": [
        {
          "output_type": "stream",
          "text": [
            "TensorFlow 1.x selected.\n",
            "Collecting gpt-2-simple\n",
            "  Downloading https://files.pythonhosted.org/packages/6f/e4/a90add0c3328eed38a46c3ed137f2363b5d6a07bf13ee5d5d4d1e480b8c3/gpt_2_simple-0.7.1.tar.gz\n",
            "Requirement already satisfied: regex in /usr/local/lib/python3.6/dist-packages (from gpt-2-simple) (2019.12.20)\n",
            "Requirement already satisfied: requests in /usr/local/lib/python3.6/dist-packages (from gpt-2-simple) (2.23.0)\n",
            "Requirement already satisfied: tqdm in /usr/local/lib/python3.6/dist-packages (from gpt-2-simple) (4.41.1)\n",
            "Requirement already satisfied: numpy in /usr/local/lib/python3.6/dist-packages (from gpt-2-simple) (1.19.5)\n",
            "Collecting toposort\n",
            "  Downloading https://files.pythonhosted.org/packages/f2/7d/55784e894ee0cde2474fb977ffd1651e74e840a9f92e1d847f7e3115d5ec/toposort-1.6-py2.py3-none-any.whl\n",
            "Requirement already satisfied: certifi>=2017.4.17 in /usr/local/lib/python3.6/dist-packages (from requests->gpt-2-simple) (2020.12.5)\n",
            "Requirement already satisfied: chardet<4,>=3.0.2 in /usr/local/lib/python3.6/dist-packages (from requests->gpt-2-simple) (3.0.4)\n",
            "Requirement already satisfied: idna<3,>=2.5 in /usr/local/lib/python3.6/dist-packages (from requests->gpt-2-simple) (2.10)\n",
            "Requirement already satisfied: urllib3!=1.25.0,!=1.25.1,<1.26,>=1.21.1 in /usr/local/lib/python3.6/dist-packages (from requests->gpt-2-simple) (1.24.3)\n",
            "Building wheels for collected packages: gpt-2-simple\n",
            "  Building wheel for gpt-2-simple (setup.py) ... \u001b[?25l\u001b[?25hdone\n",
            "  Created wheel for gpt-2-simple: filename=gpt_2_simple-0.7.1-cp36-none-any.whl size=23580 sha256=5c75ead6f5f6c0fed899f3c3a18eafe2890adb567dcd21c4dd7ad04adfd8969d\n",
            "  Stored in directory: /root/.cache/pip/wheels/0c/f8/23/b53ce437504597edff76bf9c3b8de08ad716f74f6c6baaa91a\n",
            "Successfully built gpt-2-simple\n",
            "Installing collected packages: toposort, gpt-2-simple\n",
            "Successfully installed gpt-2-simple-0.7.1 toposort-1.6\n",
            "WARNING:tensorflow:\n",
            "The TensorFlow contrib module will not be included in TensorFlow 2.0.\n",
            "For more information, please see:\n",
            "  * https://github.com/tensorflow/community/blob/master/rfcs/20180907-contrib-sunset.md\n",
            "  * https://github.com/tensorflow/addons\n",
            "  * https://github.com/tensorflow/io (for I/O related ops)\n",
            "If you depend on functionality not listed there, please file an issue.\n",
            "\n"
          ],
          "name": "stdout"
        }
      ]
    },
    {
      "cell_type": "code",
      "metadata": {
        "colab": {
          "base_uri": "https://localhost:8080/"
        },
        "id": "DhiTox7l5Lw9",
        "outputId": "fb74bbb2-422f-4ee8-9e7b-d82953d1950e"
      },
      "source": [
        "gpt2.download_gpt2(model_name=\"124M\")"
      ],
      "execution_count": 4,
      "outputs": [
        {
          "output_type": "stream",
          "text": [
            "Fetching checkpoint: 1.05Mit [00:00, 501Mit/s]                                                      \n",
            "Fetching encoder.json: 1.05Mit [00:00, 106Mit/s]                                                    \n",
            "Fetching hparams.json: 1.05Mit [00:00, 465Mit/s]                                                    \n",
            "Fetching model.ckpt.data-00000-of-00001: 498Mit [00:02, 194Mit/s]                                   \n",
            "Fetching model.ckpt.index: 1.05Mit [00:00, 591Mit/s]                                                \n",
            "Fetching model.ckpt.meta: 1.05Mit [00:00, 214Mit/s]                                                 \n",
            "Fetching vocab.bpe: 1.05Mit [00:00, 196Mit/s]                                                       \n"
          ],
          "name": "stderr"
        }
      ]
    },
    {
      "cell_type": "code",
      "metadata": {
        "id": "YKdUpDxg5YMN"
      },
      "source": [
        "file_name = \"xx.txt\""
      ],
      "execution_count": 5,
      "outputs": []
    },
    {
      "cell_type": "code",
      "metadata": {
        "colab": {
          "base_uri": "https://localhost:8080/"
        },
        "id": "6DQyX2E65eRI",
        "outputId": "16b0d122-677e-4e68-8153-5ad7e667690a"
      },
      "source": [
        "sess = gpt2.start_tf_sess()\r\n",
        "\r\n",
        "gpt2.finetune(sess,\r\n",
        "              dataset=file_name,\r\n",
        "              model_name='124M',\r\n",
        "              steps=200,\r\n",
        "              restore_from='fresh',\r\n",
        "              run_name='run2',\r\n",
        "              print_every=10,\r\n",
        "              sample_every=20,\r\n",
        "              save_every=20\r\n",
        ")"
      ],
      "execution_count": 6,
      "outputs": [
        {
          "output_type": "stream",
          "text": [
            "WARNING:tensorflow:From /usr/local/lib/python3.6/dist-packages/gpt_2_simple/src/sample.py:17: where (from tensorflow.python.ops.array_ops) is deprecated and will be removed in a future version.\n",
            "Instructions for updating:\n",
            "Use tf.where in 2.0, which has the same broadcast rule as np.where\n",
            "Loading checkpoint models/124M/model.ckpt\n",
            "INFO:tensorflow:Restoring parameters from models/124M/model.ckpt\n"
          ],
          "name": "stdout"
        },
        {
          "output_type": "stream",
          "text": [
            "100%|██████████| 1/1 [00:00<00:00, 400.37it/s]"
          ],
          "name": "stderr"
        },
        {
          "output_type": "stream",
          "text": [
            "Loading dataset...\n",
            "dataset has 4392 tokens\n",
            "Training...\n"
          ],
          "name": "stdout"
        },
        {
          "output_type": "stream",
          "text": [
            "\n"
          ],
          "name": "stderr"
        },
        {
          "output_type": "stream",
          "text": [
            "[10 | 28.05] loss=2.98 avg=2.98\n",
            "[20 | 49.35] loss=1.52 avg=2.25\n",
            "Saving checkpoint/run2/model-20\n",
            "======== SAMPLE 1 ========\n",
            " half.\n",
            "\"We'll figure it out, bro,\" she said. They left quickly.\n",
            "\n",
            "— Yeah, well, it turns out that these were the kind of people who sent the first expedition. They were well trained, and well-groomed, and if anything, trained well, she thought in her head, we should put away the weapons, or we would have lost our way.\n",
            "\n",
            "\n",
            "— The bastards. They came with a clear purpose: to split the people between them and execute them. They were bloodsucker-like in origin, and they were like that. But what were they?\n",
            "To break the machine, and then we would be free? To cut the people?\n",
            "— At that time, the most common way to break into the state was for a group of people to be trained, and then the state would be formed. Unfortunately for them, they failed. The group was broken up and scattered. The next day, after several unsuccessful attempts, the state was once more established. Now, just like that, the state is at last divided into citizens, who live by force of arms, and by laws that are too harsh to pass up. And for the first time in history, the people have a commander!\n",
            "\n",
            "— Is that true? One commander, one gun, one knife. At that time, it was considered proper to have one supreme leader, and only one person in the state. Now, you have the right to make up your own mind. One person, one vote. All that remains of these aods, and the system of party structures will be established. All that remains of the Tajiks, and the Burmese in general, will be decided by an up-and-down vote.\n",
            "\n",
            "— All right, let's go to the places where the law is clear. All that remains of these are dunams, and the laws of the city lead to them. In short, these are your government.\n",
            "— Good luck!\n",
            "— Good luck to you all, brothers and sisters, at wherever you are.\n",
            "— I know, I know. I just didn't get to the city fast enough!\n",
            "— What, you want to go to the city?\n",
            "Let's do it at once!\n",
            "Well, you don't need to be told: everyone knows where you are! Don't worry about it, I'll tell you! The Tajiks gave two ultimatums to all the people: one for each person killed in battle, and one for each person. If anyone was killed in battle, it wasn't him, for he was an Ultraman. If the battle was won, then he was eaten alive, and if not, then what? All the well-meaning people at the time either went to the nearby city of Trigon or decided to settle in the exchequer. And then, three years ago, an entirely different problem popped up. The soldiers of the Tajiks had come up with an ingenious trick that killed a huge, if small, army of Moros.\n",
            "\n",
            "They split the soldiers up into \"commenders\", and divided them into sections. After three hundred and fifty soldiers were divided into 9 categories: scientists, artificers, and so on. The first group received a special award for his efforts, while the rest received a small one for his \"surgical awareness\".\n",
            "\n",
            "Finally, for his \"operation\", the scientists and specialists in their field, and so on. And the \"commenders\", divided into units.\n",
            "\n",
            "Well, guys, these guys probably need some rest now, and these guys are our friends. Now get out, and if you fall, then help me God!\n",
            "\n",
            "— I'll do anything to get you, the ultimate in war, if you're lucky! In vain, in order that you may remember, did he say: \"If I don't walk at night,\" or something? In vain was the last commando-cannon raised, and so on. When the commandos came to a standstill, they lay down in wait for them, and then the stalker drew his Mark and shot them.\n",
            "Well, that was useless, for the Mark was useless.\n",
            "Well, well, you can shoot from a distance, but not from above...\n",
            "(The Mark is useless for nothing...!)\n",
            "Well, no, what a shame... But then one day, as if by order, he drew his own weapon, and with it a longbow (see above), and began shooting. Although what happened next is not clear, but it is clear that his shots struck the forehead of the second person. And then the stalker, with his longbow drawn, came to a sudden halt a couple of hundred yards from where the second person lay.\n",
            "So, what happened next is not clear, but it may be that he was hit by a \"barrel gun\". And then, just as if by order, he drew\n",
            "\n",
            "[30 | 84.47] loss=0.42 avg=1.63\n",
            "[40 | 106.22] loss=0.25 avg=1.28\n",
            "Saving checkpoint/run2/model-40\n",
            "WARNING:tensorflow:From /tensorflow-1.15.2/python3.6/tensorflow_core/python/training/saver.py:963: remove_checkpoint (from tensorflow.python.training.checkpoint_management) is deprecated and will be removed in a future version.\n",
            "Instructions for updating:\n",
            "Use standard file APIs to delete files with this prefix.\n",
            "======== SAMPLE 1 ========\n",
            "ude for the first time, looking around. Apparently, there's a gap in the wall and we have to climb up. We're too lazy to go around, so we jump back and wait for the rain. Maybe it's not too late. Logged\n",
            "Soulful Aim\n",
            "Soul Shooter\n",
            "I'm not a sniper, just a curious looking person.\n",
            "Well, what, you're a controller? Come on, tell me your thoughts\n",
            "\n",
            "There's a wall of text in the distance, just outside the city limits.\n",
            "I take it you want my talk\n",
            "– walk around the corner\n",
            "There's a wall of text in the distance, just outside the city limits.\n",
            "Hey, buddy, don't shoot me! I'll get to the guy\n",
            "\n",
            "You're a real sucker, a real sucker. The Demolisher is your friend\n",
            "\n",
            "That's it, buddy! Good hunting, dude.\n",
            "There's a wall of text in the distance, just outside the city limits.\n",
            "Hey, buddy, don't shoot me! Don't shoot me, you coward!\n",
            "Hana to you, Marked One.\n",
            "Looks like it's going well, I think I'm going with\n",
            "k on foot\n",
            "Good hunting, dude.\n",
            "There's a wall of text in the distance, just outside the city limits.\n",
            "Hey, buddy, don't shoot me! Don't shoot me, you coward!\n",
            "Hana to you, Marked One.\n",
            "Looks like it's going well, I think I'm going with\n",
            "k on foot\n",
            "Good hunting, I think I'm doing well.\n",
            "\n",
            "\n",
            "\n",
            "So we start with a clean Breakout, then we go on\n",
            "Quiet. Let's not get caught up in the moment!\n",
            "\n",
            "Quiet. Let's go! Ha-ha!\n",
            "Well, you've just got one more obstacle before us…\n",
            "and it's not even a problem at this time.\n",
            "A-are you kidding me? I have no desire to climb into any of the passageways, just...\n",
            "out of spite!\n",
            "I'll take it!\n",
            "— I don't know how to put this one into words, but utter silence is deafening.\n",
            "— What the hell is going on here?\n",
            "I don't know. All those who have watched this show for it. All those who supported Syeda. All the while, these walls have been cordoned off to the very last man.\n",
            "— You, the Marked One, a legend, a legend.\n",
            "A complete silence.\n",
            "The stalker drew his long, drawn-out pistol and shot at us, hitting us multiple times. As expected, the stalker drew his knife and drew his weapon, firing once in the chest and once in the abdomen.\n",
            "I hold a deep, wiry feeling about my gut. If this were real, I might as well walk in it.\n",
            "- TANYA!!!\n",
            "\n",
            "The stalker ran up to us, where we were sitting. We waited in the lotus position for an unknown distance, then went to bed.\n",
            "― O.K., what was that just now?\"\n",
            "— What, like, 10:45 a.m. EST?\n",
            "I don't know. It's either my nature or something. Whatever the case, I just can't seem to walk normally.\n",
            "— What, like, 2 p.m.?\"\n",
            "— What, like, 4 p.m.?\"\n",
            "I don't know. Maybe it was just luck or something.\n",
            "— You, the Marked One, a trickster, a real sucker?\n",
            "Well, that's not the point. Just tell me what happened.\n",
            "— Oh, yes, my God!\n",
            "— That's what I said.\n",
            "— Well, you caught it.\n",
            "— Did you?\n",
            "\n",
            "\n",
            "\n",
            "\n",
            "— No, I didn't. I just knew that getting out of the Zone was a no-no. I was lucky with the machine gun, I just didn't have time to load it.\n",
            "- Tanya!!!\n",
            "Damn it, I'm in the Zone. I've been running around like an idiot all week. No, wait, don't think I didn't stumble. Dead or alive, I would have you believe that, at least, that's what I was told. Don't think I didn't stumble. Dead or alive, I would have you believe that, at least, that's what I was told. Don't think I didn't stumble. Ha-ha, ha, ha, thou art so lucky. Dead or alive, I would have them both at one place.\n",
            "— You, the Marked One, something for the joke, an injection machine gun? What, do you have a problem with aesthetics?\n",
            "\n",
            "\n",
            "— No, I'm not a huge fan of injection machines. They're too heavy and too hard to hold, but they're my personal style.\n",
            "— In short, I like you\n",
            "\n",
            "interrupted\n",
            "Saving checkpoint/run2/model-45\n"
          ],
          "name": "stdout"
        }
      ]
    },
    {
      "cell_type": "code",
      "metadata": {
        "colab": {
          "base_uri": "https://localhost:8080/"
        },
        "id": "6fiFH5SN6Kq-",
        "outputId": "5de9d84c-31a3-4dc6-d984-c4888bae37fc"
      },
      "source": [
        "gpt2.generate(sess, run_name='run2')"
      ],
      "execution_count": 8,
      "outputs": [
        {
          "output_type": "stream",
          "text": [
            "The first time I tried it, it was like watching a musical score being played. Except instead of a note, a tuning fork appeared.\n",
            "— I understand that the fork is the correct one, it is black\n",
            "\n",
            "The fork is, in fact, a digital representation of our hands. It is clear that when we tapped on it, we were tapping at a very high frequency. This is what we are looking at.\n",
            "— This is your personal Stash, remember!\n",
            "\n",
            "— I have a question for you, Mark. Please don't get lost in the jargon.\n",
            "— I have no desire to talk to you on such a topic.\n",
            "— If anything, I should start by asking you\n",
            "\n",
            "— — If anything, you, Mark, said, don't get lost, don't you?\n",
            "- Yeah, I don't have time to stare at you with these serious expressions\n",
            " — — If anything, you said, Don't get lost, don't you?\n",
            "— I have no desire to talk to you on such a topic.\n",
            "\n",
            "— If anything, I should start by asking you\n",
            " — — If anything, you said, Don't get lost, don't you?\n",
            "— I have no desire to talk to you on such a topic.\n",
            "\n",
            "— If anything, I should start by asking you, Mark,\n",
            "wait for it...\n",
            "an error has occurred. Something is amiss.\n",
            "\n",
            "— Let's not do this, we'll fix it\n",
            "\n",
            "So you see me, I have no desire to touch you\n",
            "\n",
            "Sha, ha-ha, really? What are you thinking?\n",
            "\"What?\"\n",
            "\n",
            "\n",
            "You are the first to know. Yes, New York Times bestselling author Mark is real. The name is in honor of the late Mark Halperin.\n",
            "\"No,\" I said.\n",
            "\n",
            "— Are you asking me?\n",
            "\n",
            "I don't know how to respond. I just know that wherever we sit, the tides are turning, the movement is making a difference, there's a reason for it, the authorities are protecting us, the cause is clear, the laws are being followed, the people are just — they're too lazy to stop the criminal networks from cropping up all over the place.\n",
            "\"No,\" I said.\n",
            "— Are you asking me?\n",
            "I do not understand why people think that the most basic of human rights is being violated, when, in fact, there is no one being held responsible for the actions of the last 24 hours?\n",
            "— Well, that's not the point. Just tell me what happened.\n",
            "— Well, you just didn't have time to read the newspaper, did you?\n",
            "\n",
            "— I just sat there, and read it. No, well, you can't do that!\n",
            "\"Well, yes, I read it, but I can't read it, because the stalker was already gone.\n",
            "\"Well, you don't have to do that, I have already copied you! Now let's go to the car, and we'll talk.\n",
            "- Why?\n",
            "Because the stalker was discovered.\n",
            "– Why didn't you give him a call or something?\n",
            "— I don't know, Mark. I just don't understand why people think that the most basic of human rights is being violated, when, in fact, there is no one being held responsible for the actions of the last 24 hours?\n",
            "\"Why don't you tell me your thoughts...\n",
            "— I don't know, Mark. You're really curious?\n",
            "\n",
            "\"Don't croak. Come on, tell me your thoughts.\n",
            "-nod\n",
            "— What are you, a Marked Man?\n",
            "— Don't croak. Come on, tell me your thoughts.\n",
            "\"Hey, buddy, don't whine. You're a real hero, aren't you?\n",
            "\"Hey, you're the first to know. There's a big difference between a Marked and a normal human being. A lot of shit going on here, but I'm the first to know.\n",
            "\"I'm an utter optimist, bro. Just so you can sneeze!\n",
            "\"Well, you can't do it, bro. You can't do it, but you will. You're a real comedian, bro.\n",
            "\"Dude, you can do it! So expose me, and you'll know why I was so surprised two years ago.\n",
            "- In The Zone, you mean?\n",
            "- In The Zone, I just don't understand why people think that the most basic of human rights is being violated, when, in fact, there is no one being held responsible for the actions of the last 24 hours?\n",
            "\n",
            "\"Well, you don't have to do that, I have already copied you. Now let's go to the car, and we'll talk.\n",
            "- Why?\n",
            "Because the stalker was discovered.\n",
            "— Why did not you give him a call\n"
          ],
          "name": "stdout"
        }
      ]
    }
  ]
}